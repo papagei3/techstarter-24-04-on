{
 "cells": [
  {
   "cell_type": "code",
   "execution_count": 1,
   "id": "0d190da4-8658-43e9-9c97-2005732dc11a",
   "metadata": {},
   "outputs": [
    {
     "name": "stdout",
     "output_type": "stream",
     "text": [
      "[[1, 2, 3, 4, 5]]\n"
     ]
    }
   ],
   "source": [
    "liste = []\n",
    "names = [1,2,3,4,5]\n",
    "liste.append(names)\n",
    "print(liste) # 2d array "
   ]
  },
  {
   "cell_type": "code",
   "execution_count": 3,
   "id": "19dbc749-af47-4a5a-bcce-d105e0463fb0",
   "metadata": {},
   "outputs": [
    {
     "name": "stdout",
     "output_type": "stream",
     "text": [
      "[1, 2, 3, 4, 5]\n"
     ]
    }
   ],
   "source": [
    "liste2 = []\n",
    "for zahl in range(1,6):\n",
    "    liste2.append(zahl)\n",
    "\n",
    "print(liste2)"
   ]
  },
  {
   "cell_type": "code",
   "execution_count": 5,
   "id": "42cff8da-1251-4b17-9b4b-e9d1dcb2d033",
   "metadata": {},
   "outputs": [
    {
     "name": "stdout",
     "output_type": "stream",
     "text": [
      "[1, 2, 3, 4, 5]\n",
      "3\n"
     ]
    }
   ],
   "source": [
    "# list comprehensions\n",
    "liste3 = [zahl for zahl in range(1,6)]\n",
    "print(liste3)\n",
    "\n",
    "print(liste3[2])"
   ]
  },
  {
   "cell_type": "code",
   "execution_count": 7,
   "id": "8d933340-86c0-4e87-b7c3-c2e8ae3da514",
   "metadata": {},
   "outputs": [
    {
     "name": "stdout",
     "output_type": "stream",
     "text": [
      "c\n"
     ]
    }
   ],
   "source": [
    "# Erstellen Sie eine Liste mit den Werten ['a', 'b', 'c', 'd'] \n",
    "# und geben Sie das dritte Element aus.\n",
    "\n",
    "liste4 = ['a', 'b', 'c', 'd']\n",
    "print(liste4[2])\n",
    "\n"
   ]
  },
  {
   "cell_type": "code",
   "execution_count": 19,
   "id": "7960e50b-616a-40a2-afc0-e30eb841f5b5",
   "metadata": {},
   "outputs": [
    {
     "name": "stdout",
     "output_type": "stream",
     "text": [
      "das ist der type von range: <class 'range'>\n",
      "das ist der typ von list: <class 'list'>\n",
      "DIMI\n",
      "<class 'list'>\n",
      "[1, 2, 3, 4]\n",
      "range(1, 4)\n"
     ]
    }
   ],
   "source": [
    "list_range = range(1,4)\n",
    "real_list = [1,2,3]\n",
    "print(f\"das ist der type von range: {type(list_range)}\")\n",
    "print(f\"das ist der typ von list: {type(real_list)}\")\n",
    "\n",
    "# jeder typ ist ein container aka box\n",
    "# jeder typ hat verschiedene methoden/funktionen wie man die daten inside the box manipulieren kann\n",
    "# bei list gibt die methode append() am Ende wird etwas angehängt\n",
    "# bei range gibt es die methode append() nicht, weil keine liste ist!!!!\n",
    "\n",
    "my_name = \"dimi\"\n",
    "print(my_name.upper())\n",
    "\n",
    "# typecast bedeuetet du machst aus der range eine liste\n",
    "# und da bei der liste dann die methode append gibt, dann kannst du es dort anwenden\n",
    "typecasted = list(list_range)\n",
    "print(type(typecasted))\n",
    "\n",
    "typecasted.append(4)\n",
    "\n",
    "print(typecasted)\n",
    "#list_range.append(4)\n",
    "print(list_range)"
   ]
  },
  {
   "cell_type": "code",
   "execution_count": 44,
   "id": "b824cd9b-2756-4bd9-a308-9415441084c3",
   "metadata": {},
   "outputs": [
    {
     "name": "stdout",
     "output_type": "stream",
     "text": [
      "['Marius']\n",
      "[1, 3, 4]\n",
      "Dimi\n",
      "[1, 3, 4]\n"
     ]
    }
   ],
   "source": [
    "# first principles verstehen möchste was wir hier machen\n",
    "\n",
    "name = \"Dimi\" # d.h. ich vergebe oder tue die Daten in eine Box aka String mit \"\"\n",
    "names = [\"Marius\", \"Viktor\", \"Dimi\"] # setzte ich die Daten die inside sind in eine Box aka List\n",
    "\n",
    "names.pop()\n",
    "names.pop()\n",
    "\n",
    "#names_new = names[-1]\n",
    "\n",
    "print(names)\n",
    "#print(names_new)\n",
    "\n",
    "liste5 = [1,2,3,4]\n",
    "del liste5[1]\n",
    "\n",
    "print(liste5)\n",
    "\n",
    "liste6 = [1,2,3,4]\n",
    "liste6.pop(1)\n",
    "\n",
    "print(\n",
    "  \"Dimi\".upper()\n",
    "        .lower()\n",
    "        .capitalize() # chains\n",
    ")\n",
    "\n",
    "print(liste6)\n"
   ]
  },
  {
   "cell_type": "code",
   "execution_count": 69,
   "id": "14273ca8-e0c9-43a7-acb8-5c2819bf21dc",
   "metadata": {},
   "outputs": [
    {
     "name": "stdout",
     "output_type": "stream",
     "text": [
      "{'name': 'John', 'address': {'street': 'Bruno-Bürgel-Weg', 'plz': '70439', 'city': 'Stuggi'}, 'zahlen': [1, 2, 3, 4, 5, 6]}\n",
      "John \n",
      " {'street': 'Bruno-Bürgel-Weg', 'plz': '70439', 'city': 'Stuggi'} \n",
      " [1, 2, 3, 4, 5, 6] \n",
      " Stuggi \n",
      " Stuggi\n",
      "['Marcus', 'Neuer Schüler', 'Marius', 'Kaho']\n",
      "dict_keys(['name', 'address', 'zahlen']) dict_values(['John', {'street': 'Bruno-Bürgel-Weg', 'plz': '70439', 'city': 'Stuggi'}, [1, 2, 3, 4, 5, 6]])\n",
      "5\n",
      "[1, 2, 3, 4]\n"
     ]
    }
   ],
   "source": [
    "# Erstellen Sie ein leeres Dictionary und fügen Sie die Schlüssel-Wert-Paare ('name': 'John', 'age': 25) hinzu.\n",
    "\n",
    "names = {}\n",
    "names[\"name\"] = \"John\"\n",
    "names[\"age\"] = 25\n",
    "\n",
    "#print(names)\n",
    "\n",
    "telefonbuch = {\n",
    "    \"name\": \"John\", # value is a primitive data type string\n",
    "    \"address\": { # value is a complex data type another dict\n",
    "        \"street\": \"Bruno-Bürgel-Weg\"\n",
    "    },\n",
    "    \"zahlen\": [1,2,3,4,5,6] # value is a complex data type a list\n",
    "}\n",
    "\n",
    "# { {}, [], \"\" }\n",
    "# { \"\", \"\", \"\"\n",
    "\n",
    "telefonbuch[\"address\"][\"plz\"] = \"70439\"\n",
    "telefonbuch[\"address\"][\"city\"] = \"Stuggi\"\n",
    "\n",
    "print(telefonbuch)\n",
    "\n",
    "print(\n",
    "    telefonbuch[\"name\"],\n",
    "    \"\\n\",\n",
    "    telefonbuch[\"address\"],\n",
    "    \"\\n\",\n",
    "    telefonbuch[\"zahlen\"],\n",
    "    \"\\n\",\n",
    "    telefonbuch[\"address\"][\"city\"],\n",
    "    \"\\n\",\n",
    "    telefonbuch.get(\"address\").get(\"city\", \"n/a\")\n",
    ")\n",
    "\n",
    "\"\"\"\n",
    "print(\n",
    "    names[\"name\"],\n",
    "    names.get(\"name\"),\n",
    "    names.get(\"telefon\", \"0711 99 99 99\")\n",
    ")\n",
    "\"\"\"\n",
    "\n",
    "# list ist immer geordnet bei liste gibt es keinen [\"key\"] sondern eine position [6]\n",
    "# dict ist ungeordnet [6] [\"key\"]\n",
    "# insert() geht auf einer liste weil man dort eine position und den wert angeben kann\n",
    "\n",
    "liste7 = [\"Marcus\", \"Marius\", \"Kaho\"]\n",
    "liste7.insert(1, \"Neuer Schüler\") # auf einem dict geht das so nicht, weil nicht geordnet\n",
    "print(liste7)\n",
    "\n",
    "print(\n",
    "    telefonbuch.keys(),\n",
    "    telefonbuch.values()\n",
    ")\n",
    "\n",
    "# unterschied zwischen mutable and immutable data types in python <<< mal recherchieren für sich\n",
    "liste8 = [1,2,3,4,5]\n",
    "last_element = liste8.pop()\n",
    "\n",
    "print(last_element)\n",
    "print(liste8)"
   ]
  },
  {
   "cell_type": "code",
   "execution_count": 74,
   "id": "536a3eb7-610b-4caa-9418-35e14c6a6bd2",
   "metadata": {},
   "outputs": [
    {
     "name": "stdout",
     "output_type": "stream",
     "text": [
      "Herzlich willkommen! Timo\n",
      "[]\n",
      "bonono\n"
     ]
    }
   ],
   "source": [
    "# function greet() zu erstellen?\n",
    "\n",
    "def greet(name):\n",
    "    print(f\"Herzlich willkommen! {name}\")\n",
    "\n",
    "greet(\"Timo\")\n",
    "\n",
    "liste9 = list(range(9))\n",
    "liste9 = []\n",
    "print(liste9)\n",
    "\n",
    "frucht = \"banana\"\n",
    "\n",
    "print(\n",
    "    frucht.replace(\"a\", \"o\")\n",
    ")"
   ]
  },
  {
   "cell_type": "code",
   "execution_count": null,
   "id": "508c4304-b2eb-4e94-beb6-8a7367b796a7",
   "metadata": {},
   "outputs": [],
   "source": []
  }
 ],
 "metadata": {
  "kernelspec": {
   "display_name": "Python 3 (ipykernel)",
   "language": "python",
   "name": "python3"
  },
  "language_info": {
   "codemirror_mode": {
    "name": "ipython",
    "version": 3
   },
   "file_extension": ".py",
   "mimetype": "text/x-python",
   "name": "python",
   "nbconvert_exporter": "python",
   "pygments_lexer": "ipython3",
   "version": "3.12.3"
  }
 },
 "nbformat": 4,
 "nbformat_minor": 5
}
