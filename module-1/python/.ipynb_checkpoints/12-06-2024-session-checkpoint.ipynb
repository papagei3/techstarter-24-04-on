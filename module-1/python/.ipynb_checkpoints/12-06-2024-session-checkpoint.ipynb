{
 "cells": [
  {
   "cell_type": "code",
   "execution_count": null,
   "id": "da8728e2-b60c-419c-a434-e9803b32a5d1",
   "metadata": {},
   "outputs": [],
   "source": [
    "# Tutorial source: https://github.com/royalosyin/Practice-SQL-with-SQLite-and-Jupyter-Notebook/tree/master"
   ]
  },
  {
   "cell_type": "markdown",
   "id": "3d2f32f9-a161-4e0d-a488-34b58cd1fb2a",
   "metadata": {},
   "source": [
    "Install sqlite on ubunut: `sudo apt install sqlite3`"
   ]
  },
  {
   "cell_type": "markdown",
   "id": "a2dc50d7-7a94-4c36-a16e-10b355731d99",
   "metadata": {},
   "source": [
    "SQLite3 is a powerful command-line interface for interacting with SQLite databases. Here are the top 10 `dot` commands frequently used in the SQLite3 CLI:\n",
    "\n",
    "0. `sqlite3 your_database_name.db` this command creates a database\n",
    "1. `.help`: Displays a list of available dot commands.\n",
    "2. `.open <database>`: Opens a connection to the specified SQLite database.\n",
    "3. `.tables`: Lists all tables in the currently opened database.\n",
    "4. `.schema <table>`: Displays the schema for the specified table.\n",
    "5. `.header on|off`: Turns column headers on or off for query results.\n",
    "6. `.mode <mode>`: Sets the display mode for query results (e.g., `column`, `list`, `html`, etc.).\n",
    "7. `.exit` or `.quit`: Exits the SQLite3 CLI.\n",
    "8. `.backup <filename>`: Creates a backup of the current database to the specified file.\n",
    "9. `.restore <filename>`: Restores a database from the specified backup file.\n",
    "10. `.timeout <milliseconds>`: Sets the query timeout in milliseconds.\n",
    "\n",
    "These are some of the most commonly used dot commands in SQLite3 CLI, but there are more available for various tasks and configurations. You can always use `.help` to get a comprehensive list of available dot commands and their descriptions."
   ]
  },
  {
   "cell_type": "code",
   "execution_count": 1,
   "id": "342da3ee-a480-4863-a222-ac4f35a5efd2",
   "metadata": {},
   "outputs": [
    {
     "name": "stdout",
     "output_type": "stream",
     "text": [
      "Directory 'data' created successfully.\n"
     ]
    }
   ],
   "source": [
    "import os\n",
    "\n",
    "# Specify the directory path\n",
    "directory = 'data'\n",
    "\n",
    "# Create the directory if it doesn't exist\n",
    "if not os.path.exists(directory):\n",
    "    os.makedirs(directory)\n",
    "    print(f\"Directory '{directory}' created successfully.\")\n",
    "else:\n",
    "    print(f\"Directory '{directory}' already exists.\")\n",
    "\n",
    "# Set write permissions for all users\n",
    "os.chmod(directory, 0o777)"
   ]
  },
  {
   "cell_type": "code",
   "execution_count": 2,
   "id": "1f2eaf6d-4546-48b5-b74d-a984d2a6b61a",
   "metadata": {},
   "outputs": [
    {
     "name": "stdout",
     "output_type": "stream",
     "text": [
      "Requirement already satisfied: ipython-sql in /opt/homebrew/Cellar/jupyterlab/4.2.1/libexec/lib/python3.12/site-packages (0.5.0)\n",
      "Requirement already satisfied: prettytable in /opt/homebrew/Cellar/jupyterlab/4.2.1/libexec/lib/python3.12/site-packages (from ipython-sql) (3.10.0)\n",
      "Requirement already satisfied: ipython in /opt/homebrew/Cellar/jupyterlab/4.2.1/libexec/lib/python3.12/site-packages (from ipython-sql) (8.24.0)\n",
      "Requirement already satisfied: sqlalchemy>=2.0 in /opt/homebrew/Cellar/jupyterlab/4.2.1/libexec/lib/python3.12/site-packages (from ipython-sql) (2.0.30)\n",
      "Requirement already satisfied: sqlparse in /opt/homebrew/Cellar/jupyterlab/4.2.1/libexec/lib/python3.12/site-packages (from ipython-sql) (0.5.0)\n",
      "Requirement already satisfied: six in /opt/homebrew/Cellar/jupyterlab/4.2.1/libexec/lib/python3.12/site-packages (from ipython-sql) (1.16.0)\n",
      "Requirement already satisfied: ipython-genutils in /opt/homebrew/Cellar/jupyterlab/4.2.1/libexec/lib/python3.12/site-packages (from ipython-sql) (0.2.0)\n",
      "Requirement already satisfied: typing-extensions>=4.6.0 in /opt/homebrew/Cellar/jupyterlab/4.2.1/libexec/lib/python3.12/site-packages (from sqlalchemy>=2.0->ipython-sql) (4.12.2)\n",
      "Requirement already satisfied: decorator in /opt/homebrew/Cellar/jupyterlab/4.2.1/libexec/lib/python3.12/site-packages (from ipython->ipython-sql) (5.1.1)\n",
      "Requirement already satisfied: jedi>=0.16 in /opt/homebrew/Cellar/jupyterlab/4.2.1/libexec/lib/python3.12/site-packages (from ipython->ipython-sql) (0.19.1)\n",
      "Requirement already satisfied: matplotlib-inline in /opt/homebrew/Cellar/jupyterlab/4.2.1/libexec/lib/python3.12/site-packages (from ipython->ipython-sql) (0.1.7)\n",
      "Requirement already satisfied: prompt-toolkit<3.1.0,>=3.0.41 in /opt/homebrew/Cellar/jupyterlab/4.2.1/libexec/lib/python3.12/site-packages (from ipython->ipython-sql) (3.0.43)\n",
      "Requirement already satisfied: pygments>=2.4.0 in /opt/homebrew/Cellar/jupyterlab/4.2.1/libexec/lib/python3.12/site-packages (from ipython->ipython-sql) (2.18.0)\n",
      "Requirement already satisfied: stack-data in /opt/homebrew/Cellar/jupyterlab/4.2.1/libexec/lib/python3.12/site-packages (from ipython->ipython-sql) (0.6.3)\n",
      "Requirement already satisfied: traitlets>=5.13.0 in /opt/homebrew/Cellar/jupyterlab/4.2.1/libexec/lib/python3.12/site-packages (from ipython->ipython-sql) (5.14.3)\n",
      "Requirement already satisfied: pexpect>4.3 in /opt/homebrew/Cellar/jupyterlab/4.2.1/libexec/lib/python3.12/site-packages (from ipython->ipython-sql) (4.9.0)\n",
      "Requirement already satisfied: wcwidth in /opt/homebrew/Cellar/jupyterlab/4.2.1/libexec/lib/python3.12/site-packages (from prettytable->ipython-sql) (0.2.13)\n",
      "Requirement already satisfied: parso<0.9.0,>=0.8.3 in /opt/homebrew/Cellar/jupyterlab/4.2.1/libexec/lib/python3.12/site-packages (from jedi>=0.16->ipython->ipython-sql) (0.8.4)\n",
      "Requirement already satisfied: ptyprocess>=0.5 in /opt/homebrew/Cellar/jupyterlab/4.2.1/libexec/lib/python3.12/site-packages (from pexpect>4.3->ipython->ipython-sql) (0.7.0)\n",
      "Requirement already satisfied: executing>=1.2.0 in /opt/homebrew/Cellar/jupyterlab/4.2.1/libexec/lib/python3.12/site-packages (from stack-data->ipython->ipython-sql) (2.0.1)\n",
      "Requirement already satisfied: asttokens>=2.1.0 in /opt/homebrew/Cellar/jupyterlab/4.2.1/libexec/lib/python3.12/site-packages (from stack-data->ipython->ipython-sql) (2.4.1)\n",
      "Requirement already satisfied: pure-eval in /opt/homebrew/Cellar/jupyterlab/4.2.1/libexec/lib/python3.12/site-packages (from stack-data->ipython->ipython-sql) (0.2.2)\n",
      "Note: you may need to restart the kernel to use updated packages.\n"
     ]
    }
   ],
   "source": [
    "# Die %pip install ipython-sql Anweisung ist eine sogenannte \"Magic Command\" in Jupyter Notebooks. Diese spezielle Syntax ermöglicht es Ihnen, Pakete direkt innerhalb des Notebooks zu installieren, ohne die Shell oder die Befehlszeile verlassen zu müssen.\n",
    "# %pip install ipython-sql die Installation des Pakets ipython-sql durch, das eine SQL-Magic-Erweiterung für IPython bereitstellt. Diese Erweiterung ermöglicht es Ihnen, SQL-Code in den Zellen Ihres Notebooks auszuführen und direkt mit Datenbanken zu interagieren, \n",
    "# Kernel Restart: When you restart the Jupyter Notebook kernel (either manually or due to an error), the Python environment associated with the kernel is reset. Any packages installed during the previous session are not persisted.\n",
    "%pip install ipython-sql"
   ]
  },
  {
   "cell_type": "code",
   "execution_count": 3,
   "id": "eca042d2-136d-48c5-8233-99622bf27b32",
   "metadata": {},
   "outputs": [],
   "source": [
    "# Die %load_ext sql Anweisung in Jupyter Notebooks lädt das IPython SQL-Erweiterungsmodul. Dies ermöglicht es, SQL-Code in den Zellen des Notebooks auszuführen und direkt mit Datenbanken zu interagieren.\n",
    "%load_ext sql"
   ]
  },
  {
   "cell_type": "code",
   "execution_count": 4,
   "id": "a619150e-04a0-4799-836a-7e3887adc70b",
   "metadata": {},
   "outputs": [],
   "source": [
    "import os\n",
    "\n",
    "# Get the current working directory\n",
    "current_directory = os.getcwd()\n",
    "\n",
    "# Construct the SQLite database URL\n",
    "database_url = f\"sqlite:///{current_directory}/data/writers.db3\"\n",
    "\n",
    "# Connect to the SQLite database\n",
    "%sql $database_url"
   ]
  },
  {
   "cell_type": "code",
   "execution_count": 5,
   "id": "089d3b9e-aa0c-40f9-a5c7-0dd391bc9567",
   "metadata": {},
   "outputs": [
    {
     "name": "stdout",
     "output_type": "stream",
     "text": [
      "Done.\n"
     ]
    },
    {
     "data": {
      "text/plain": [
       "[]"
      ]
     },
     "execution_count": 5,
     "metadata": {},
     "output_type": "execute_result"
    }
   ],
   "source": [
    "%%sql sqlite://\n",
    "CREATE TABLE writer(\n",
    "    FirstName VARCHAR(50) NOT NULL,\n",
    "    LastName VARCHAR(50) NOT NULL,  \n",
    "    USERID int  NOT NULL UNIQUE, \n",
    "    PRIMARY KEY (USERID)\n",
    ");"
   ]
  },
  {
   "cell_type": "code",
   "execution_count": 6,
   "id": "679f9352-c9e1-44da-8859-d09528e185bb",
   "metadata": {},
   "outputs": [
    {
     "name": "stdout",
     "output_type": "stream",
     "text": [
      " * sqlite:////Users/tarasowski/Coding/projects/techstarter-24-04-on/module-1/python/data/writers.db3\n",
      "Done.\n"
     ]
    },
    {
     "data": {
      "text/html": [
       "<table>\n",
       "    <thead>\n",
       "        <tr>\n",
       "            <th>FirstName</th>\n",
       "            <th>LastName</th>\n",
       "            <th>USERID</th>\n",
       "        </tr>\n",
       "    </thead>\n",
       "    <tbody>\n",
       "    </tbody>\n",
       "</table>"
      ],
      "text/plain": [
       "[]"
      ]
     },
     "execution_count": 6,
     "metadata": {},
     "output_type": "execute_result"
    }
   ],
   "source": [
    "%%sql \n",
    "select * from writer"
   ]
  },
  {
   "cell_type": "code",
   "execution_count": 7,
   "id": "abbb6d7d-1be3-4a39-9edf-13efe1be6297",
   "metadata": {},
   "outputs": [
    {
     "name": "stdout",
     "output_type": "stream",
     "text": [
      "1 rows affected.\n",
      "1 rows affected.\n",
      "1 rows affected.\n"
     ]
    },
    {
     "data": {
      "text/plain": [
       "[]"
      ]
     },
     "execution_count": 7,
     "metadata": {},
     "output_type": "execute_result"
    }
   ],
   "source": [
    "%%sql sqlite://\n",
    "INSERT INTO writer VALUES ('William', 'Shakespeare', 1616);\n",
    "INSERT INTO writer VALUES ('Lin', 'Han', 1996);\n",
    "INSERT INTO writer VALUES ('Peter', 'Brecht', 1978);"
   ]
  },
  {
   "cell_type": "code",
   "execution_count": 8,
   "id": "ac909476-6e46-4b43-80ed-f3e7f5d1519e",
   "metadata": {},
   "outputs": [
    {
     "name": "stdout",
     "output_type": "stream",
     "text": [
      " * sqlite:////Users/tarasowski/Coding/projects/techstarter-24-04-on/module-1/python/data/writers.db3\n",
      "Done.\n"
     ]
    },
    {
     "data": {
      "text/html": [
       "<table>\n",
       "    <thead>\n",
       "        <tr>\n",
       "            <th>FirstName</th>\n",
       "            <th>LastName</th>\n",
       "            <th>USERID</th>\n",
       "        </tr>\n",
       "    </thead>\n",
       "    <tbody>\n",
       "        <tr>\n",
       "            <td>William</td>\n",
       "            <td>Shakespeare</td>\n",
       "            <td>1616</td>\n",
       "        </tr>\n",
       "        <tr>\n",
       "            <td>Lin</td>\n",
       "            <td>Han</td>\n",
       "            <td>1996</td>\n",
       "        </tr>\n",
       "        <tr>\n",
       "            <td>Peter</td>\n",
       "            <td>Brecht</td>\n",
       "            <td>1978</td>\n",
       "        </tr>\n",
       "    </tbody>\n",
       "</table>"
      ],
      "text/plain": [
       "[('William', 'Shakespeare', 1616),\n",
       " ('Lin', 'Han', 1996),\n",
       " ('Peter', 'Brecht', 1978)]"
      ]
     },
     "execution_count": 8,
     "metadata": {},
     "output_type": "execute_result"
    }
   ],
   "source": [
    "%%sql \n",
    "select * from writer"
   ]
  },
  {
   "cell_type": "code",
   "execution_count": null,
   "id": "558bdc4f-9487-44d7-8852-4213fe91fc54",
   "metadata": {},
   "outputs": [],
   "source": []
  }
 ],
 "metadata": {
  "kernelspec": {
   "display_name": "Python 3 (ipykernel)",
   "language": "python",
   "name": "python3"
  },
  "language_info": {
   "codemirror_mode": {
    "name": "ipython",
    "version": 3
   },
   "file_extension": ".py",
   "mimetype": "text/x-python",
   "name": "python",
   "nbconvert_exporter": "python",
   "pygments_lexer": "ipython3",
   "version": "3.12.3"
  }
 },
 "nbformat": 4,
 "nbformat_minor": 5
}
