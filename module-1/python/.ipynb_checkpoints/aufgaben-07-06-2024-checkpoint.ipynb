{
 "cells": [
  {
   "cell_type": "markdown",
   "id": "e11490a9-c18a-46e9-9525-8a343a251fa6",
   "metadata": {},
   "source": [
    "**Quelle:** https://www.codewars.com/collections/basic-python"
   ]
  },
  {
   "cell_type": "markdown",
   "id": "edb3d70d-d3a1-4ab8-8905-339d19fe44f2",
   "metadata": {},
   "source": [
    "# Aufgabedefinition: Love Message an Johny!\n",
    "\n",
    "Jenny hat eine Funktion geschrieben, die eine Begrüßung für einen Benutzer zurückgibt. Allerdings ist sie in Johnny verliebt und möchte ihn etwas anders begrüßen. \n",
    "\n",
    "Schreibe diese Funktion!"
   ]
  },
  {
   "cell_type": "code",
   "execution_count": 6,
   "id": "cdda281d-1be5-4f15-9447-5da29cba6435",
   "metadata": {},
   "outputs": [
    {
     "name": "stdin",
     "output_type": "stream",
     "text": [
      "Bitte Benutzer eingeben:  Johnny\n"
     ]
    },
    {
     "name": "stdout",
     "output_type": "stream",
     "text": [
      "Hallo Johnny! Freu mich dich zu sehen! I Love you Johnny\n"
     ]
    }
   ],
   "source": [
    "# lösung #1\n",
    "\"\"\"\n",
    "x = input(\"Bitte benutzer eingeben\")\n",
    "\n",
    "if x == \"Johny\":\n",
    "    print(\"Special message: I LOVE YOU JOHNY\")\n",
    "else:\n",
    "    print(f\"Hallo {x}\")\n",
    "\"\"\"\n",
    "# lösung #2\n",
    "\n",
    "# man kann eine funktion auch als abstraktion ansehen\n",
    "# ich muss nicht wissen was innerhalb der funktion passiert\n",
    "# interface ist dann der funktionsname: begruessung(name: str)\n",
    "\n",
    "def begruessung(name):\n",
    "    if name == \"Johnny\":\n",
    "      print(\"Hallo Johnny! Freu mich dich zu sehen! I Love you Johnny\")\n",
    "    else:\n",
    "      print(f\"Hallo {name}! Willkommen!\")\n",
    "\n",
    "eingabe = input(\"Bitte Benutzer eingeben: \")\n",
    "begruessung(eingabe)\n",
    "\n"
   ]
  },
  {
   "cell_type": "markdown",
   "id": "c3fe222d-181d-439c-976f-70fb54c526b0",
   "metadata": {},
   "source": [
    "---"
   ]
  },
  {
   "cell_type": "markdown",
   "id": "4087dc6f-2a0e-46ef-bddd-f5550a57a465",
   "metadata": {},
   "source": [
    "# Aufgabedefinition: Schafe zählen\n",
    "\n",
    "Betrachte ein Array/Liste von Schafen, bei dem einige Schafe an ihrem Platz fehlen können. Wir brauchen eine Funktion, die die Anzahl der Schafe im Array zählt (true bedeutet vorhanden).\n",
    "\n",
    "Zum Beispiel,\n",
    "\n",
    "[true,  true,  true,  false,\n",
    "  true,  true,  true,  true ,\n",
    "  true,  false, true,  false,\n",
    "  true,  false, false, true ,\n",
    "  true,  true,  true,  true ,\n",
    "  false, false, true,  true]\n",
    "Die richtige Antwort wäre 17.\n",
    "\n",
    "Hinweis: Vergiss nicht, nach ungültigen Werten wie null/undefined für JS bzw. None für Python zu überprüfen."
   ]
  },
  {
   "cell_type": "code",
   "execution_count": 26,
   "id": "07f0a0c6-5b41-4230-a5b6-ffc5c1ac921b",
   "metadata": {},
   "outputs": [
    {
     "name": "stdout",
     "output_type": "stream",
     "text": [
      "\n",
      "do nothing\n",
      "1 adden weil sheep = True ist\n",
      "do nothing\n",
      "1 adden weil sheep = True ist\n",
      "1 adden weil sheep = True ist\n",
      "1 adden weil sheep = True ist\n",
      "1 adden weil sheep = True ist\n",
      "1 adden weil sheep = True ist\n",
      "do nothing\n",
      "1 adden weil sheep = True ist\n",
      "do nothing\n",
      "1 adden weil sheep = True ist\n",
      "do nothing\n",
      "do nothing\n",
      "1 adden weil sheep = True ist\n",
      "1 adden weil sheep = True ist\n",
      "1 adden weil sheep = True ist\n",
      "1 adden weil sheep = True ist\n",
      "1 adden weil sheep = True ist\n",
      "do nothing\n",
      "do nothing\n",
      "1 adden weil sheep = True ist\n",
      "1 adden weil sheep = True ist\n",
      "Die Anzahl der Schafe in sheeplist 15\n"
     ]
    }
   ],
   "source": [
    "# lösung #1\n",
    "schafe = [\"true\", None, None, \"true\", \"false\", \"true\", \"true\", \"true\", \"true\" , \"true\", \"true\", \"true\", \"false\", \"true\", \"false\", \"false\", \"true\" , \"true\", \"true\", \"true\", \"true\" , \"false\", \"false\", \"true\", \"true\"] # string werte\n",
    "\n",
    "\n",
    "true = True\n",
    "false = False\n",
    "new_list = [true, false, true, false]\n",
    "\n",
    "\"\"\"\n",
    "true/false < so definiert man boolean werte in javascript\n",
    "True/False < so difiniert man boolean werte in python\n",
    "\"\"\"\n",
    "\n",
    "\n",
    "print(\n",
    "    #schafe.count(\"true\"),\n",
    "    #schafe.count(\"false\")\n",
    ")\n",
    "\n",
    "sheeplist = [False, True, False, True, True, True, True , True, False, True, False, True, False, False, True , True, True, True, True , False, False, True, True] # boolean werte\n",
    "\n",
    "# lösung #2\n",
    "def countsheep(sheeplist):\n",
    "    count = 0\n",
    "    for sheep in sheeplist:\n",
    "        # sheep = True beim ersten durchlauf\n",
    "        # sheep = True beim zweiten durchlauf\n",
    "        # sheep = False beim dritten durchlauf\n",
    "        #if sheep == True: # die super explizite schreibweise\n",
    "        # if True: then it is true\n",
    "        # if False: then nothing else it is false\n",
    "        # if True:\n",
    "        # then ....\n",
    "        # else ....\n",
    "        if sheep: # if True or False then do this or that if farbe == \"blue\" (< das hier ergibt True or False): then print(\"blau\") else: print(\"nicht blau\")\n",
    "            print(\"1 adden weil sheep = True ist\")\n",
    "            count +=1\n",
    "        else:\n",
    "            print(\"do nothing\")\n",
    "    return count\n",
    "\n",
    "print(\n",
    "    f\"Die Anzahl der Schafe in sheeplist {countsheep(sheeplist)}\",\n",
    ")\n",
    "\n",
    "# null/undefined\n",
    "\n"
   ]
  },
  {
   "cell_type": "markdown",
   "id": "6e7aee9f-2535-4748-94ef-3c97cf51f00b",
   "metadata": {},
   "source": [
    "---"
   ]
  },
  {
   "cell_type": "markdown",
   "id": "bdfd99ff-d04c-4623-9622-977c6a905f8e",
   "metadata": {},
   "source": [
    "# Aufgabedefinition: Kombiniere-Strings-Funktion\n",
    "\n",
    "Erstelle eine Funktion namens combine_names, die zwei Parameter (Vor- und Nachname) akzeptiert. Die Funktion sollte den vollständigen Namen zurückgeben.\n",
    "\n",
    "Beispiel:\n",
    "\n",
    "combineNames('James', 'Stevens')\n",
    "gibt zurück:\n",
    "\n",
    "'James Stevens'\""
   ]
  },
  {
   "cell_type": "code",
   "execution_count": 30,
   "id": "e2165f3d-f3fc-4ce8-8436-923c8d31c8c0",
   "metadata": {},
   "outputs": [
    {
     "name": "stdout",
     "output_type": "stream",
     "text": [
      "Kaho Lastname Kaho Lastname\n"
     ]
    }
   ],
   "source": [
    "def combine_names(firstname, lastname):\n",
    "    return f\"{firstname} {lastname}\"\n",
    "\n",
    "def combine_names2(firstname, lastname):\n",
    "    combined = firstname + \" \" + lastname\n",
    "    return combined\n",
    "\n",
    "print(\n",
    "    combine_names(\"Kaho\", \"Lastname\"),\n",
    "    combine_names2(\"Kaho\", \"Lastname\")\n",
    ")"
   ]
  },
  {
   "cell_type": "markdown",
   "id": "c5a895cc-048c-4b3b-a153-4c36d5bf3c38",
   "metadata": {},
   "source": [
    "---"
   ]
  },
  {
   "cell_type": "markdown",
   "id": "03ab798a-1bac-4546-b81d-d49db6092888",
   "metadata": {},
   "source": [
    "# Aufgabedefinition: True or False\n",
    "\n",
    "Schreibe die Funktion, die einen booleschen Wert annimmt und einen String \"Ja\" für wahr oder einen String \"Nein\" für falsch zurückgibt."
   ]
  },
  {
   "cell_type": "code",
   "execution_count": 34,
   "id": "a006a1af-4410-4bca-941e-e84b0d817fa0",
   "metadata": {},
   "outputs": [
    {
     "name": "stdout",
     "output_type": "stream",
     "text": [
      "Nein\n"
     ]
    }
   ],
   "source": [
    "def bool_to_string(value):\n",
    "    return (\"Ja\" if value else \"Nein\") # expression\n",
    "    \"\"\" # das hier ist ein statement 👇\n",
    "    if value:\n",
    "        return \"Ja\"\n",
    "    else:\n",
    "        return \"Nein\"\n",
    "    \"\"\"\n",
    "\n",
    "print(bool_to_string(False))\n",
    "\n",
    "\n"
   ]
  },
  {
   "cell_type": "markdown",
   "id": "72602a52-79da-458d-991e-e13156368fac",
   "metadata": {},
   "source": [
    "---"
   ]
  },
  {
   "cell_type": "markdown",
   "id": "450caf29-ba1f-444c-abde-e187422ed84f",
   "metadata": {},
   "source": [
    "# Aufgabedefinition: Banjo Manjo\n",
    "\n",
    "Erstelle eine Funktion, die die Frage beantwortet: \"Spielst du Banjo?\".\n",
    "Wenn dein Name mit dem Buchstaben \"R\" oder dem Kleinbuchstaben \"r\" beginnt, spielst du Banjo!\n",
    "\n",
    "Die Funktion nimmt einen Namen als ihr einziges Argument an und gibt einen der folgenden Strings zurück:\n",
    "\n",
    "name + \" spielt Banjo\"\n",
    "name + \" spielt kein Banjo\"\n",
    "\n",
    "Die übergebenen Namen sind immer gültige Zeichenketten."
   ]
  },
  {
   "cell_type": "code",
   "execution_count": 36,
   "id": "8ec28a0d-ff56-41fe-8ec1-1bce55ca7292",
   "metadata": {},
   "outputs": [
    {
     "name": "stdout",
     "output_type": "stream",
     "text": [
      "Richard spielt Banjo\n"
     ]
    }
   ],
   "source": [
    "def banjo_manjo(name):\n",
    "    if name.startswith(\"R\") or name.startswith(\"r\"):\n",
    "        print(f\"{name} spielt Banjo\")\n",
    "    else:\n",
    "        print(f\"{name} spielt kein Banjo\")\n",
    "\n",
    "banjo_manjo(\"Richard\")"
   ]
  },
  {
   "cell_type": "markdown",
   "id": "f79acdcb-d6f6-47ea-8e81-7400c50a576c",
   "metadata": {},
   "source": [
    "---"
   ]
  },
  {
   "cell_type": "markdown",
   "id": "0a305010-c6f6-451e-b177-9ed0b6e2ac55",
   "metadata": {},
   "source": [
    "# Aufgabedefinition: Notenbuch\n",
    "\n",
    "Vervollständige die Funktion, damit sie den Durchschnitt der drei übergebenen Noten findet und den Buchstabenwert zurückgibt, der mit dieser Note verbunden ist.\n",
    "\n",
    "Numerische Note\tBuchstaben Note\n",
    "- 90 <= Note <= 100\t'A'\n",
    "- 80 <= Note < 90\t'B'\n",
    "- 70 <= Note < 80\t'C'\n",
    "- 60 <= Note < 70\t'D'\n",
    "- 0 <= Note < 60\t'F'\n",
    "\n",
    "Getestete Werte liegen alle zwischen 0 und 100. Es ist nicht notwendig, negative Werte oder Werte größer als 100 zu überprüfen."
   ]
  },
  {
   "cell_type": "code",
   "execution_count": 37,
   "id": "e2cdaa84-968e-42ba-93ee-d6ab2eda20cd",
   "metadata": {},
   "outputs": [
    {
     "name": "stdout",
     "output_type": "stream",
     "text": [
      "B\n"
     ]
    }
   ],
   "source": [
    "# import math --> dort gibt es die sum methode\n",
    "\n",
    "def calcGrade(listOfGrades):\n",
    "    add = 0\n",
    "    qua = len(listOfGrades) # anzahl\n",
    "    for g in listOfGrades: # schleife für die summe\n",
    "        add += g\n",
    "    ava = add / qua # danach wird avg berechnet\n",
    "    if ava >= 90: # prüfung für die range 90 bis 100\n",
    "        return \"A\"\n",
    "    elif ava >= 80: # prüfung für die range 80 bis 90\n",
    "        return \"B\"\n",
    "    elif ava >= 70: # prüfung für die range 70 bis 80\n",
    "        return \"C\"\n",
    "    elif ava >= 60:\n",
    "        return \"D\"\n",
    "    else:\n",
    "        return \"F\"\n",
    "\n",
    "print(\n",
    "    calcGrade([89, 90, 90, 90, 80, 99])\n",
    ")\n",
    "\n",
    "def notenbuch(note1, note2, note3):\n",
    "    \n",
    "    durchschnitt = (note1 + note2 + note3) / 3 \n",
    "    \n",
    "    if 90 <= durchschnitt <= 100: # die ranges für den vergleich\n",
    "        return \"A\"\n",
    "    elif 80 <= durchschnitt < 90:\n",
    "        return \"B\"\n",
    "    elif 70 <= durchschnitt < 80:\n",
    "        return \"C\"\n",
    "    elif 60 <= durchschnitt < 70:\n",
    "        return \"D\"\n",
    "    else:\n",
    "        return \"F\"\n",
    "\n",
    "\n",
    "print(notenbuch(90, 10, 10))\n",
    "    "
   ]
  },
  {
   "cell_type": "markdown",
   "id": "23acfb04-f581-424c-b9d5-95daf9e75bb1",
   "metadata": {},
   "source": [
    "---"
   ]
  },
  {
   "cell_type": "markdown",
   "id": "94e844c3-fb55-461e-86d7-864973944bc2",
   "metadata": {},
   "source": [
    "# Aufgabedefinition: Kalkulator on Steroids\n",
    "\n",
    "Schreibe eine Funktion, die ein Array von Zahlen annimmt und die Summe der Zahlen zurückgibt. Die Zahlen können negativ oder nicht ganzzahlig sein. Wenn das Array keine Zahlen enthält, solltest du 0 zurückgeben.\n",
    "\n",
    "Beispiele\n",
    "Eingabe: [1, 5.2, 4, 0, -1]\n",
    "Ausgabe: 9.2\n",
    "\n",
    "Eingabe: []\n",
    "Ausgabe: 0\n",
    "\n",
    "Eingabe: [-2.398]\n",
    "Ausgabe: -2.398\n",
    "\n",
    "Annahmen\n",
    "Du kannst davon ausgehen, dass dir nur Zahlen übergeben werden.\n",
    "Du kannst nicht von der Größe des Arrays ausgehen.\n",
    "Du kannst davon ausgehen, dass du ein Array erhältst und wenn das Array leer ist, 0 zurückgeben."
   ]
  },
  {
   "cell_type": "markdown",
   "id": "e91cbed6-13b1-4eef-a903-71a35b48ee4c",
   "metadata": {},
   "source": [
    "---"
   ]
  },
  {
   "cell_type": "markdown",
   "id": "bb7d0fef-fe65-4bc4-8c5f-eca225cc7491",
   "metadata": {},
   "source": [
    "# Aufgabedefinition: Schere, Stein, Papier\n",
    "\n",
    "Schere, Stein, Papier\n",
    "Lass uns spielen! Du musst zurückgeben, welcher Spieler gewonnen hat! Im Falle eines Unentschiedens gib Unentschieden! zurück.\n",
    "\n",
    "Beispiele (Eingabe1, Eingabe2 --> Ausgabe):\n",
    "\n",
    "\"scissors\", \"paper\" --> \"Spieler 1 gewinnt!\"\n",
    "\"scissors\", \"rock\" --> \"Spieler 2 gewinnt!\"\n",
    "\"paper\", \"paper\" --> \"Unentschieden!\""
   ]
  },
  {
   "cell_type": "markdown",
   "id": "2990713e-a5b2-4a75-9a48-180bedf66c73",
   "metadata": {},
   "source": [
    "---"
   ]
  },
  {
   "cell_type": "markdown",
   "id": "fc99d13f-8bf7-43d1-943a-df70749f45c2",
   "metadata": {},
   "source": [
    "# Aufgabendefinition: Alter überprüfen am Eingang einer Bar\n",
    "\n",
    "**Ziel:** Das Ziel dieser Aufgabe besteht darin, ein Python-Programm zu erstellen, das das Alter einer Person überprüft, um festzustellen, ob sie alt genug ist, um eine Bar zu betreten.\n",
    "\n",
    "**Beschreibung:**\n",
    "Ein Türsteher muss das Alter der Besucher überprüfen, um sicherzustellen, dass sie die gesetzliche Altersgrenze erreicht haben, um die Bar betreten zu dürfen. Diese Aufgabe besteht darin, ein einfaches Python-Programm zu entwickeln, das das Alter eines Benutzers abfragt und dann entscheidet, ob er/sie alt genug ist, um einzutreten.\n",
    "\n",
    "**Anforderungen:**\n",
    "- Das Programm muss den Benutzer nach seinem Alter fragen.\n",
    "- Es muss überprüfen, ob das eingegebene Alter die gesetzliche Altersgrenze erreicht oder überschreitet.\n",
    "- Wenn das Alter ausreichend ist (18 Jahre oder älter), soll eine Willkommensnachricht ausgegeben werden.\n",
    "- Wenn das Alter nicht ausreichend ist, soll eine Nachricht ausgegeben werden, die besagt, dass der Benutzer zu jung ist, um einzutreten.\n",
    "- Das Programm sollte eine Fehlerbehandlung für den Fall enthalten, dass der Benutzer keine ganze Zahl eingibt.\n",
    "\n",
    "**Beispiel:**\n",
    "```\n",
    "Wie alt bist du? 20\n",
    "Willkommen in der Bar!\n",
    "\n",
    "Wie alt bist du? 16\n",
    "Entschuldigung, du bist noch nicht alt genug, um einzutreten.\n",
    "\n",
    "Wie alt bist du? abc\n",
    "Ungültige Eingabe. Bitte geben Sie Ihr Alter als ganze Zahl ein.\n",
    "```\n",
    "\n",
    "**Hinweise:**\n",
    "- Verwende die Funktion `input()`, um die Benutzereingabe zu erhalten.\n",
    "- Verwende `int()` oder `try-except`, um sicherzustellen, dass die Benutzereingabe in eine ganze Zahl umgewandelt werden kann.\n",
    "- Nutze `if`-Anweisungen, um das Alter zu überprüfen und entsprechende Nachrichten auszugeben."
   ]
  },
  {
   "cell_type": "markdown",
   "id": "63a47f5b-f0a6-40d5-a62e-2ed8a7f477b7",
   "metadata": {},
   "source": [
    "---"
   ]
  },
  {
   "cell_type": "markdown",
   "id": "2cc99fe9-a8b4-409c-8537-ccb6774b5800",
   "metadata": {},
   "source": [
    "# Aufgabendefinition: Telefonbuch erstellen mit einem Dictionary\n",
    "\n",
    "**Ziel:** Das Ziel dieser Aufgabe besteht darin, ein Python-Programm zu erstellen, das die Funktionalität eines Telefonbuchs implementiert, indem es ein Dictionary verwendet.\n",
    "\n",
    "**Beschreibung:**\n",
    "Ein Telefonbuch ist eine Sammlung von Namen und dazugehörigen Telefonnummern. Diese Aufgabe besteht darin, ein Python-Programm zu entwickeln, das es dem Benutzer ermöglicht, Namen und Telefonnummern hinzuzufügen, zu suchen, zu aktualisieren und zu löschen.\n",
    "\n",
    "**Anforderungen:**\n",
    "- Das Programm muss ein leeres Telefonbuch (ein leeres Dictionary) erstellen.\n",
    "- Es sollte dem Benutzer eine Menüauswahl bieten, um zwischen verschiedenen Optionen zu wählen: Eintrag hinzufügen, Eintrag suchen, Eintrag aktualisieren, Eintrag löschen und Telefonbuch anzeigen.\n",
    "- Für jeden Eintrag sollte der Benutzer einen Namen und eine Telefonnummer angeben können.\n",
    "- Wenn der Benutzer nach einem Namen sucht, sollte das Programm die dazugehörige Telefonnummer anzeigen, wenn der Name im Telefonbuch vorhanden ist, oder eine entsprechende Meldung ausgeben, wenn der Name nicht gefunden wurde.\n",
    "- Wenn der Benutzer einen Eintrag aktualisieren möchte, sollte das Programm ihn dazu auffordern, den vorhandenen Namen einzugeben und dann die neue Telefonnummer.\n",
    "- Wenn der Benutzer einen Eintrag löschen möchte, sollte das Programm ihn dazu auffordern, den zu löschenden Namen einzugeben.\n",
    "- Das Programm sollte dem Benutzer die Möglichkeit geben, das Telefonbuch jederzeit anzuzeigen.\n",
    "- Das Programm sollte eine Möglichkeit bieten, den Benutzer zu beenden, wenn er keine weiteren Operationen durchführen möchte.\n",
    "\n",
    "**Beispiel:**\n",
    "```\n",
    "1. Eintrag hinzufügen\n",
    "2. Eintrag suchen\n",
    "3. Eintrag aktualisieren\n",
    "4. Eintrag löschen\n",
    "5. Telefonbuch anzeigen\n",
    "6. Beenden\n",
    "\n",
    "Wählen Sie eine Option: 1\n",
    "Name: Max Mustermann\n",
    "Telefonnummer: 123456789\n",
    "Eintrag hinzugefügt!\n",
    "\n",
    "Wählen Sie eine Option: 2\n",
    "Name: Max Mustermann\n",
    "Telefonnummer: 123456789\n",
    "\n",
    "Wählen Sie eine Option: 3\n",
    "Aktualisieren Sie den Eintrag für: Max Mustermann\n",
    "Neue Telefonnummer: 987654321\n",
    "Eintrag aktualisiert!\n",
    "\n",
    "Wählen Sie eine Option: 4\n",
    "Löschen Sie den Eintrag für: Max Mustermann\n",
    "Eintrag gelöscht!\n",
    "\n",
    "Wählen Sie eine Option: 5\n",
    "Telefonbuch:\n",
    "- Name: Max Mustermann, Telefonnummer: 987654321\n",
    "\n",
    "Wählen Sie eine Option: 6\n",
    "Das Programm wird beendet.\n",
    "```\n",
    "\n",
    "**Hinweise:**\n",
    "- Verwende ein Dictionary, um Namen und Telefonnummern zu speichern, wobei der Name als Schlüssel und die Telefonnummer als Wert verwendet wird.\n",
    "- Nutze eine Schleife, um dem Benutzer die Möglichkeit zu geben, verschiedene Operationen durchzuführen, bis er sich entscheidet, das Programm zu beenden.\n",
    "- Verwende `input()` für Benutzereingaben und `print()` für Ausgaben."
   ]
  },
  {
   "cell_type": "markdown",
   "id": "8edf3565-ca37-4516-956d-df97d41257b4",
   "metadata": {},
   "source": [
    "---"
   ]
  },
  {
   "cell_type": "markdown",
   "id": "1151810c-2ee4-4bc6-a10e-4e35a8b81665",
   "metadata": {},
   "source": [
    "# Aufgabendefinition: Einkaufsliste mit einem Array erstellen\n",
    "\n",
    "**Ziel:** Ziel dieser Aufgabe ist es, ein Python-Programm zu erstellen, das es einem Benutzer ermöglicht, eine Einkaufsliste zu erstellen und zu verwalten, indem es ein Array verwendet.\n",
    "\n",
    "**Beschreibung:**\n",
    "Eine Einkaufsliste ist eine Liste von Gegenständen oder Produkten, die eine Person kaufen möchte. Diese Aufgabe besteht darin, ein Python-Programm zu entwickeln, das es dem Benutzer ermöglicht, Gegenstände zur Einkaufsliste hinzuzufügen, zu überprüfen, ob ein bestimmter Artikel bereits auf der Liste steht, und Gegenstände von der Liste zu entfernen.\n",
    "\n",
    "**Anforderungen:**\n",
    "- Das Programm sollte ein leeres Array verwenden, um die Einkaufsliste zu erstellen.\n",
    "- Der Benutzer sollte in der Lage sein, neue Gegenstände zur Einkaufsliste hinzuzufügen.\n",
    "- Das Programm sollte überprüfen, ob ein bestimmter Gegenstand bereits auf der Liste steht, und dem Benutzer eine entsprechende Nachricht ausgeben.\n",
    "- Der Benutzer sollte in der Lage sein, einen Gegenstand von der Liste zu entfernen, falls er ihn nicht mehr kaufen möchte.\n",
    "- Das Programm sollte dem Benutzer die Möglichkeit geben, die gesamte Einkaufsliste anzuzeigen.\n",
    "- Das Programm sollte dem Benutzer die Möglichkeit geben, das Programm zu beenden, wenn er keine weiteren Operationen durchführen möchte.\n",
    "\n",
    "**Beispiel:**\n",
    "```\n",
    "1. Artikel hinzufügen\n",
    "2. Artikel überprüfen\n",
    "3. Artikel entfernen\n",
    "4. Einkaufsliste anzeigen\n",
    "5. Beenden\n",
    "\n",
    "Wählen Sie eine Option: 1\n",
    "Geben Sie den Artikel ein, den Sie zur Einkaufsliste hinzufügen möchten: Milch\n",
    "Milch wurde zur Einkaufsliste hinzugefügt!\n",
    "\n",
    "Wählen Sie eine Option: 1\n",
    "Geben Sie den Artikel ein, den Sie zur Einkaufsliste hinzufügen möchten: Brot\n",
    "Brot wurde zur Einkaufsliste hinzugefügt!\n",
    "\n",
    "Wählen Sie eine Option: 2\n",
    "Geben Sie den Artikel ein, den Sie überprüfen möchten: Milch\n",
    "Milch steht bereits auf der Einkaufsliste.\n",
    "\n",
    "Wählen Sie eine Option: 3\n",
    "Geben Sie den Artikel ein, den Sie von der Einkaufsliste entfernen möchten: Milch\n",
    "Milch wurde von der Einkaufsliste entfernt.\n",
    "\n",
    "Wählen Sie eine Option: 4\n",
    "Einkaufsliste:\n",
    "- Brot\n",
    "\n",
    "Wählen Sie eine Option: 5\n",
    "Das Programm wird beendet.\n",
    "```\n",
    "\n",
    "**Hinweise:**\n",
    "- Verwende ein Array, um die Einkaufsliste zu speichern.\n",
    "- Nutze `input()` für Benutzereingaben und `print()` für Ausgaben.\n",
    "- Verwende `if`-Anweisungen, um die verschiedenen Optionen zu verarbeiten."
   ]
  },
  {
   "cell_type": "markdown",
   "id": "8ccb6ace-1a05-47f7-8a00-47894a11f53b",
   "metadata": {},
   "source": [
    "---"
   ]
  },
  {
   "cell_type": "markdown",
   "id": "f361bf74-9262-4789-93ce-3d937d554a81",
   "metadata": {},
   "source": [
    "# Aufgabendefinition: Serverlog analyse\n",
    "Schreibe eine/mehrere Funktion, das Log-Dateien von Servern analysiert und nach bestimmten Mustern sucht, z.B. nach Fehlern oder Warnungen."
   ]
  },
  {
   "cell_type": "code",
   "execution_count": 2,
   "id": "33590dcf-40e4-49ce-9729-2b2560cbf149",
   "metadata": {},
   "outputs": [],
   "source": [
    "server_logs = [\n",
    "    \"2024-06-07 08:30:45 - INFO - Server started successfully\",\n",
    "    \"2024-06-07 08:31:12 - WARNING - Disk space low\",\n",
    "    \"2024-06-07 08:32:05 - ERROR - Connection timeout\",\n",
    "    \"2024-06-07 08:33:20 - INFO - Backup completed\",\n",
    "    \"2024-06-07 08:34:50 - ERROR - Database not responding\",\n",
    "    \"2024-06-07 08:35:10 - INFO - Server restarted\",\n",
    "    \"2024-06-07 08:36:25 - WARNING - High CPU usage detected\"\n",
    "]"
   ]
  },
  {
   "cell_type": "code",
   "execution_count": 3,
   "id": "66d658b1-e63e-44ed-b3cb-cea165490a4a",
   "metadata": {},
   "outputs": [],
   "source": [
    "def find_warnings(logs):\n",
    "    \"hier die funktion für warnings\"\n",
    "    pass"
   ]
  },
  {
   "cell_type": "code",
   "execution_count": 4,
   "id": "faa24fad-3437-4f97-ae52-876f0c94cf7c",
   "metadata": {},
   "outputs": [],
   "source": [
    "def find_errors(logs):\n",
    "    \"hier die funktion für fehler\"\n",
    "    pass"
   ]
  },
  {
   "cell_type": "code",
   "execution_count": 5,
   "id": "afbb59de-bb0d-42cd-9458-e733f1ac3fbe",
   "metadata": {},
   "outputs": [
    {
     "name": "stdout",
     "output_type": "stream",
     "text": [
      "Hier sind die Serverfehler None Hier sind die Serverwarnings None\n"
     ]
    }
   ],
   "source": [
    "errors = find_errors(server_logs)\n",
    "warnings = find_warnings(server_logs)\n",
    "\n",
    "print(\n",
    "    f\"Hier sind die Serverfehler {errors}\",\n",
    "    f\"Hier sind die Serverwarnings {warnings}\"\n",
    ")"
   ]
  }
 ],
 "metadata": {
  "kernelspec": {
   "display_name": "Python 3 (ipykernel)",
   "language": "python",
   "name": "python3"
  },
  "language_info": {
   "codemirror_mode": {
    "name": "ipython",
    "version": 3
   },
   "file_extension": ".py",
   "mimetype": "text/x-python",
   "name": "python",
   "nbconvert_exporter": "python",
   "pygments_lexer": "ipython3",
   "version": "3.12.3"
  }
 },
 "nbformat": 4,
 "nbformat_minor": 5
}
