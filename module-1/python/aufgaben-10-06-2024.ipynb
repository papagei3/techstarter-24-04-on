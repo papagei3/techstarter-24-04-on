{
 "cells": [
  {
   "cell_type": "markdown",
   "id": "690b6880-b0bd-4896-867e-a5d73aa977ae",
   "metadata": {},
   "source": [
    "### Aufgabe 1: Temperaturumrechner\n",
    "Vervollständige die Funktion, die eine Temperatur in Fahrenheit entgegennimmt und sie in Celsius umwandelt. Die umgerechnete Temperatur sollte dann klassifiziert werden.\n",
    "\n",
    "```python\n",
    "def temperatur_umrechner(fahrenheit):\n",
    "   pass\n",
    "\n",
    "# Beispielaufruf:\n",
    "print(temperatur_umrechner(77))  # Sollte etwa [25, \"Warm\"] ausgeben\n",
    "# [10, \"kalt\"]\n",
    "```"
   ]
  },
  {
   "cell_type": "code",
   "execution_count": 5,
   "id": "06821b9e-5bad-427b-864e-ba567707483b",
   "metadata": {},
   "outputs": [
    {
     "name": "stdout",
     "output_type": "stream",
     "text": [
      "[-1.1111111111111112, 'kalt']\n"
     ]
    }
   ],
   "source": [
    "# hier ist die lösung für die funktion!!!\n",
    "# umrechnen -> 77 in 25\n",
    "# klassifizieren -> kalt, warm\n",
    "\n",
    "def temperatur_umrechnen(fahrenheit):\n",
    "    classification = None\n",
    "    celsius = (fahrenheit - 32) * 5/9\n",
    "    if celsius < 10:\n",
    "        classification = \"kalt\"\n",
    "    elif celsius < 20:\n",
    "        classification = \"mild\"\n",
    "    elif celsius > 20:\n",
    "        classification = \"warm\"\n",
    "    return [celsius, classification]\n",
    "\n",
    "print(\n",
    "    temperatur_umrechnen(30)\n",
    ") # [-1, kalt] oder [25, warm]\n"
   ]
  },
  {
   "cell_type": "markdown",
   "id": "5bbb0228-9eef-4159-a3db-7d409c91bd66",
   "metadata": {},
   "source": [
    "---"
   ]
  },
  {
   "cell_type": "markdown",
   "id": "d923e75e-d5aa-470d-a8de-50d1afb00648",
   "metadata": {},
   "source": [
    "### Aufgabe 2: Alter in Tagen\n",
    "Vervollständige die Funktion, die das Alter in Jahren entgegennimmt und das Alter in Tagen zurückgibt (ohne Schaltjahre zu berücksichtigen).\n",
    "\n",
    "```python\n",
    "def alter_in_tagen(alter_in_jahren):\n",
    "    pass\n",
    "\n",
    "# Beispielaufruf:\n",
    "print(alter_in_tagen(25))  # Sollte 9125 ausgeben\n",
    "```"
   ]
  },
  {
   "cell_type": "code",
   "execution_count": 10,
   "id": "5ef0895f-b068-42f1-af10-721daef1c95e",
   "metadata": {},
   "outputs": [
    {
     "name": "stdout",
     "output_type": "stream",
     "text": [
      "9125\n"
     ]
    }
   ],
   "source": [
    "\n",
    "def alter_in_tagen(alter_in_jahren):\n",
    "    return alter_in_jahren * 365 # für alle jahre 365 tage!!!\n",
    "\n",
    "\n",
    "print(alter_in_tagen(25))"
   ]
  },
  {
   "cell_type": "markdown",
   "id": "d0c9ee07-7b7c-49f1-9759-1ef57f7d5d0b",
   "metadata": {},
   "source": [
    "---"
   ]
  },
  {
   "cell_type": "markdown",
   "id": "9f5c5343-92e1-4522-a0ed-5ef6ec391a4a",
   "metadata": {},
   "source": [
    "### Aufgabe 3: Einkaufswagen Gesamtpreis\n",
    "Vervollständige die Funktion, die eine Liste von Preisen entgegennimmt und den Gesamtpreis berechnet. Wenn der Gesamtpreis über 100 liegt, soll ein Rabatt von 10% gewährt werden.\n",
    "\n",
    "```python\n",
    "def gesamtpreis(preise):\n",
    "    pass\n",
    "\n",
    "# Beispielaufruf:\n",
    "print(gesamtpreis([20, 30, 50, 10]))  # Sollte 99.0 ausgeben\n",
    "```"
   ]
  },
  {
   "cell_type": "code",
   "execution_count": 27,
   "id": "94d8527f-ab9b-4288-bef1-2eab944a92bd",
   "metadata": {},
   "outputs": [
    {
     "name": "stdout",
     "output_type": "stream",
     "text": [
      "99.0\n"
     ]
    }
   ],
   "source": [
    "def gesamtpreis(preise):\n",
    "    gesamt = sum(preise)\n",
    "    if gesamt > 100:\n",
    "        gesamt *= 0.9\n",
    "    return gesamt\n",
    "\n",
    "print(gesamtpreis([20,30,50,10]))"
   ]
  },
  {
   "cell_type": "markdown",
   "id": "df142c4c-7851-4652-b238-6e5464690044",
   "metadata": {},
   "source": [
    "---"
   ]
  },
  {
   "cell_type": "markdown",
   "id": "090a046e-96bb-4498-9926-c95e09f101fc",
   "metadata": {},
   "source": [
    "### Aufgabe 4: Wörter zählen\n",
    "Vervollständige die Funktion, die einen Satz entgegennimmt und die Anzahl der Wörter zurückgibt.\n",
    "\n",
    "```python\n",
    "def woerter_zaehlen(satz):\n",
    "    pass\n",
    "\n",
    "# Beispielaufruf:\n",
    "print(woerter_zaehlen(\"Das ist ein Beispiel Satz\"))  # Sollte 5 ausgeben\n",
    "```"
   ]
  },
  {
   "cell_type": "code",
   "execution_count": 6,
   "id": "ecfbd9aa-1648-4d96-bd09-30477e6ed8a2",
   "metadata": {},
   "outputs": [
    {
     "name": "stdout",
     "output_type": "stream",
     "text": [
      "['Das', 'ist', 'ein', 'Beispiel', 'Satz']\n",
      "5\n",
      "5\n"
     ]
    }
   ],
   "source": [
    "def woerter_zaehlen(satz):\n",
    "    # aus der funktion muss etwas returned werden!!!!\n",
    "    woerter = satz.split()\n",
    "    # print(woerter)\n",
    "    anzahl = len(woerter)\n",
    "    # print(anzahl)\n",
    "    # len( satz.split() )\n",
    "    return anzahl\n",
    "\n",
    "print(woerter_zaehlen(\"Das ist ein Beispiel Satz\"))"
   ]
  },
  {
   "cell_type": "markdown",
   "id": "9db6192d-f9fb-48b3-9828-e6f70ba07eb3",
   "metadata": {},
   "source": [
    "---"
   ]
  },
  {
   "cell_type": "markdown",
   "id": "429f089b-85ac-4c6e-b41f-fe659d263f74",
   "metadata": {},
   "source": [
    "### Aufgabe 5: Quadratwurzel berechnen\n",
    "Vervollständige die Funktion, die eine Zahl entgegennimmt und ihre Quadratwurzel berechnet.\n",
    "\n",
    "```python\n",
    "import math\n",
    "\n",
    "def quadratwurzel_berechnen(zahl):\n",
    "    pass\n",
    "\n",
    "# Beispielaufruf:\n",
    "print(quadratwurzel_berechnen(16))  # Sollte 4.0 ausgeben\n",
    "```\n",
    "\n"
   ]
  },
  {
   "cell_type": "code",
   "execution_count": 13,
   "id": "c2fb0765-fc80-46d5-b83a-674780d81772",
   "metadata": {},
   "outputs": [
    {
     "name": "stdout",
     "output_type": "stream",
     "text": [
      "None\n"
     ]
    }
   ],
   "source": [
    "import math\n",
    "\n",
    "def quadratwurzel_berechnen(zahl):\n",
    "    result = math.sqrt(zahl)\n",
    "\n",
    "# Beispielaufruf:\n",
    "print(\n",
    "    quadratwurzel_berechnen(16)\n",
    ")  # Sollte 4.0 ausgeben"
   ]
  },
  {
   "cell_type": "code",
   "execution_count": 18,
   "id": "b4947aff-39de-4da4-9875-3edcb086ebc2",
   "metadata": {},
   "outputs": [
    {
     "name": "stdout",
     "output_type": "stream",
     "text": [
      "Random integer between 1 and 100: 28\n",
      "Randomly chosen language: C++\n"
     ]
    }
   ],
   "source": [
    "import math # standard module von python\n",
    "import random \n",
    "\n",
    "num = random.randint(1, 100) \n",
    "print(f\"Random integer between 1 and 100: {num}\") \n",
    "\n",
    "fruits = [\"Java\", \"C\", \"C++\", \"Python\"] \n",
    "chosen_fruit = random.choice(fruits) \n",
    "print(f\"Randomly chosen language: {chosen_fruit}\") "
   ]
  },
  {
   "cell_type": "code",
   "execution_count": 19,
   "id": "720c0ed8-9cf1-4ffb-8a90-57a56f2d0175",
   "metadata": {},
   "outputs": [
    {
     "name": "stdout",
     "output_type": "stream",
     "text": [
      "Python version: 3.12.3 (main, Apr  9 2024, 08:09:14) [Clang 15.0.0 (clang-1500.3.9.4)]\n"
     ]
    }
   ],
   "source": [
    "import sys \n",
    "print(\"Python version:\", sys.version)\n",
    "\n",
    "import os\n",
    "import json\n",
    "import requests\n",
    "import flask\n"
   ]
  },
  {
   "cell_type": "markdown",
   "id": "f89fe3d3-37d9-417f-8170-43aced5259a9",
   "metadata": {},
   "source": [
    "---"
   ]
  },
  {
   "cell_type": "markdown",
   "id": "40f2a999-88de-42a5-8d45-00f8e107dc86",
   "metadata": {},
   "source": [
    "### Aufgabe 6: Webserver Status prüfen\n",
    "Schreibe eine Python-Funktion, die den Status eines Webservers überprüft, indem sie eine HTTP-Anfrage sendet und den HTTP-Statuscode zurückgibt.\n",
    "\n",
    "```python\n",
    "import requests\n",
    "\n",
    "def webserver_status_pruefen(url):\n",
    "    try:\n",
    "        response = requests.get(url)\n",
    "        return response.status_code\n",
    "    except requests.ConnectionError:\n",
    "        return \"Verbindung fehlgeschlagen\"\n",
    "\n",
    "# Beispielaufruf:\n",
    "print(webserver_status_pruefen('http://example.com'))  # Sollte den HTTP-Statuscode zurückgeben, z.B. 200\n",
    "```\n",
    "\n",
    "Diese Aufgaben helfen Ihnen dabei, praktische Fähigkeiten in Python zu entwickeln, die für DevOps Engineering relevant sind. Sie beinhalten das Lesen und Analysieren von Dateien, die Arbeit mit Docker, die Überwachung von Systemressourcen, das Erstellen von Backups und das Überprüfen des Status von Webservern."
   ]
  },
  {
   "cell_type": "code",
   "execution_count": 25,
   "id": "c0e19554-c312-48f7-a13b-d250643c9084",
   "metadata": {},
   "outputs": [
    {
     "name": "stdout",
     "output_type": "stream",
     "text": [
      "Alles gut, server is online\n"
     ]
    }
   ],
   "source": [
    "import math # built-in von python\n",
    "import json # built-in von pyhton\n",
    "import sys # built-in von pyhton\n",
    "import requests # muss von hier geladen werden: https://pypi.org/project/requests/\n",
    "\n",
    "def webserver_status_pruefen(url):\n",
    "    try:\n",
    "        response = requests.get(url) # wenn das ok ist <- wenn es keine fehler gibt\n",
    "        return \"Alles gut, server is online\"\n",
    "    except requests.ConnectionError:\n",
    "        return \"Verbindung fehlgeschlagen\"\n",
    "\n",
    "# Beispielaufruf:\n",
    "print(\n",
    "    webserver_status_pruefen('https://www.tarasowski.de')\n",
    ")"
   ]
  },
  {
   "cell_type": "code",
   "execution_count": 32,
   "id": "b3e3a7cf-983e-44f0-91da-a2cfa8aa8e49",
   "metadata": {},
   "outputs": [
    {
     "name": "stdout",
     "output_type": "stream",
     "text": [
      "<class '_io.TextIOWrapper'>\n",
      "2024-06-10 10:00:00 INFO Starting the server...\n",
      "2024-06-10 10:00:01 INFO Server started successfully.\n",
      "2024-06-10 10:05:23 WARNING Low disk space.\n",
      "2024-06-10 10:10:47 ERROR Unable to connect to database.\n",
      "2024-06-10 10:12:30 INFO Reconnecting to database.\n",
      "2024-06-10 10:12:31 INFO Reconnected to database.\n",
      "2024-06-10 10:15:00 INFO Performing scheduled backup.\n",
      "2024-06-10 10:15:45 ERROR Backup failed due to insufficient disk space.\n",
      "2024-06-10 10:16:00 INFO Cleaning up old logs.\n",
      "2024-06-10 10:16:30 INFO Old logs cleaned up.\n",
      "2024-06-10 10:20:00 INFO Server is running normally.\n",
      "2024-06-10 10:25:00 WARNING High memory usage detected.\n",
      "2024-06-10 10:30:00 ERROR Memory usage exceeds threshold.\n",
      "2024-06-10 10:35:00 INFO Initiating memory cleanup.\n",
      "2024-06-10 10:40:00 INFO Memory cleanup completed.\n",
      "2024-06-10 10:45:00 INFO Server is running normally.\n"
     ]
    }
   ],
   "source": [
    "# bei python gibt es modul io, so ähnlich wie math oder random oder json oder sys\n",
    "# io steht für input and output\n",
    "# unter input verstehen wir das wir zb. ein file aus dem harddisk auslesen oder tastur eingabe\n",
    "# output wir geben es auf dem bildschirm aus\n",
    "# import io\n",
    "\n",
    "#help(open)\n",
    "\n",
    "file = open(\"logfile.txt\", mode=\"r\") # file wird gelesen und in  de variable file gespeichert\n",
    "print(type(file))\n",
    "content = file.read() # hier mit der methode .read() werden die inhalte ausgelesen\n",
    "print(content)\n",
    "# all logs werden in /var/www gespeichert !!!"
   ]
  },
  {
   "cell_type": "markdown",
   "id": "c36f24ba-29dc-48a1-8408-9c1ae381ecc4",
   "metadata": {},
   "source": [
    "---"
   ]
  },
  {
   "cell_type": "markdown",
   "id": "0208d366-cc61-4378-b6e1-7ced6f40a644",
   "metadata": {},
   "source": [
    "### Aufgabe 7: Logdatei analysieren\n",
    "Schreibe eine Python-Funktion, die eine Logdatei einliest und die Anzahl der Vorkommen eines bestimmten Schlüsselwortes zählt.\n",
    "\n",
    "```python\n",
    "def logdatei_analysieren(dateipfad, schluesselwort):\n",
    "    zaehler = 0\n",
    "    with open(dateipfad, 'r') as datei:\n",
    "        for zeile in datei:\n",
    "            if schluesselwort in zeile:\n",
    "                zaehler += 1\n",
    "    return zaehler\n",
    "\n",
    "# Beispielaufruf:\n",
    "print(logdatei_analysieren('logfile.txt', 'ERROR'))  # Sollte 3 ausgeben\n",
    "print(logdatei_analysieren('logfile.txt', 'INFO'))   # Sollte 9 ausgeben\n",
    "print(logdatei_analysieren('logfile.txt', 'WARNING'))  # Sollte 2 ausgeben\n",
    "```"
   ]
  },
  {
   "cell_type": "code",
   "execution_count": 42,
   "id": "8a7801fd-9580-4020-ae0f-10d53138ca52",
   "metadata": {},
   "outputs": [
    {
     "name": "stdout",
     "output_type": "stream",
     "text": [
      "3\n"
     ]
    }
   ],
   "source": [
    "\"\"\"\n",
    "2024-06-10 10:00:00 INFO Starting the server...\n",
    "2024-06-10 10:00:01 INFO Server started successfully.\n",
    "2024-06-10 10:05:23 WARNING Low disk space.\n",
    "2024-06-10 10:10:47 ERROR Unable to connect to database.\n",
    "2024-06-10 10:12:30 INFO Reconnecting to database.\n",
    "2024-06-10 10:12:31 INFO Reconnected to database.\n",
    "2024-06-10 10:15:00 INFO Performing scheduled backup.\n",
    "2024-06-10 10:15:45 ERROR Backup failed due to insufficient disk space.\n",
    "2024-06-10 10:16:00 INFO Cleaning up old logs.\n",
    "2024-06-10 10:16:30 INFO Old logs cleaned up.\n",
    "2024-06-10 10:20:00 INFO Server is running normally.\n",
    "2024-06-10 10:25:00 WARNING High memory usage detected.\n",
    "2024-06-10 10:30:00 ERROR Memory usage exceeds threshold.\n",
    "2024-06-10 10:35:00 INFO Initiating memory cleanup.\n",
    "2024-06-10 10:40:00 INFO Memory cleanup completed.\n",
    "2024-06-10 10:45:00 INFO Server is running normally.\n",
    "\"\"\"\n",
    "\n",
    "def logdatei_analysieren(schluesselwort):\n",
    "    zaehler = 0\n",
    "    with open(\"logfile.txt\", 'r') as datei: #hier wird die datei gelesen und in der variable datei gespeichert\n",
    "        for zeile in datei: #hier mit der for loop gehen wir die einzlenen zeilen durch\n",
    "            if schluesselwort in zeile: #bei if statement wird geprüft ob das schluesselwort z.B. WARNING sich in der zeile befindet\n",
    "                zaehler += 1\n",
    "    return zaehler\n",
    "\n",
    "# Beispielaufruf:\n",
    "errors = logdatei_analysieren('ERROR')\n",
    "print(errors)  # Sollte 3 ausgeben\n",
    "\n"
   ]
  },
  {
   "cell_type": "markdown",
   "id": "794615c2-e5db-45e2-8346-4e08525fd48a",
   "metadata": {},
   "source": [
    "---"
   ]
  },
  {
   "cell_type": "markdown",
   "id": "f8bccbfa-fa15-46a1-bb9f-4264711847c0",
   "metadata": {},
   "source": [
    "### Aufgabe 8: Einfache Textdatei lesen und schreiben\n",
    "Schreibe eine Funktion, die eine Textdatei einliest, alle Zeilen in Großbuchstaben umwandelt und das Ergebnis in eine neue Datei schreibt.\n",
    "\n",
    "```python\n",
    "def datei_lesen_und_schreiben(eingabedatei, ausgabedatei):\n",
    "    with open(eingabedatei, 'r') as infile:\n",
    "        inhalt = infile.readlines()\n",
    "\n",
    "    inhalt_gross = [zeile.upper() for zeile in inhalt]\n",
    "\n",
    "    with open(ausgabedatei, 'w') as outfile:\n",
    "        outfile.writelines(inhalt_gross)\n",
    "\n",
    "# Beispielaufruf:\n",
    "datei_lesen_und_schreiben('eingabe.txt', 'ausgabe.txt')\n",
    "```\n",
    "\n",
    "#### Beispielinhalt von `eingabe.txt`:\n",
    "\n",
    "```\n",
    "Hallo Welt!\n",
    "Dies ist ein Test.\n",
    "Python macht Spaß!\n",
    "```\n",
    "\n",
    "#### Beispielinhalt von `ausgabe.txt` nach der Ausführung des Skripts:\n",
    "\n",
    "```\n",
    "HALLO WELT!\n",
    "DIES IST EIN TEST.\n",
    "PYTHON MACHT SPASS!\n",
    "```"
   ]
  },
  {
   "cell_type": "markdown",
   "id": "eedceaa2-c863-45b1-91ca-0359fffae4ba",
   "metadata": {},
   "source": [
    "---"
   ]
  },
  {
   "cell_type": "markdown",
   "id": "01a4f32e-a0f0-4087-94d2-c904602c4ee6",
   "metadata": {},
   "source": [
    "### Aufgabe 9: Wörter zählen\n",
    "Schreibe eine Funktion, die eine Textdatei einliest und die Anzahl der Wörter in der Datei zählt. Schreibe das Ergebnis in eine neue Datei.\n",
    "\n",
    "```python\n",
    "def woerter_zaehlen_und_schreiben(dateipfad, ergebnisdatei):\n",
    "    with open(dateipfad, 'r') as datei:\n",
    "        inhalt = datei.read()\n",
    "    \n",
    "    woerter = inhalt.split()\n",
    "    anzahl_woerter = len(woerter)\n",
    "    \n",
    "    with open(ergebnisdatei, 'w') as datei:\n",
    "        datei.write(f\"Anzahl der Wörter: {anzahl_woerter}\\n\")\n",
    "\n",
    "# Beispielaufruf:\n",
    "woerter_zaehlen_und_schreiben('eingabe.txt', 'woerter_zaehlen.txt')\n",
    "```\n",
    "\n",
    "#### Beispielinhalt von `eingabe.txt`:\n",
    "\n",
    "```\n",
    "Hallo Welt!\n",
    "Dies ist ein Test.\n",
    "Python macht Spaß!\n",
    "```\n",
    "\n",
    "#### Beispielinhalt von `woerter_zaehlen.txt` nach der Ausführung des Skripts:\n",
    "\n",
    "```\n",
    "Anzahl der Wörter: 7\n",
    "```"
   ]
  },
  {
   "cell_type": "markdown",
   "id": "1765dcf7-6514-447c-bf78-b67b7aae8cff",
   "metadata": {},
   "source": [
    "---"
   ]
  },
  {
   "cell_type": "markdown",
   "id": "eb09a172-2af9-43d2-b59b-a2bf69d7e1cc",
   "metadata": {},
   "source": [
    "### Aufgabe 10: Modul und Paket erstellen und verwenden\n",
    "\n",
    "- Ein Modul ist eine einzelne Python-Datei, die Funktionen, Klassen und Variablen enthält, die Sie in Ihrem Programm verwenden können.\n",
    "- Ein Paket ist ein Verzeichnis (Ordner), das eine Sammlung von Modulen und anderen Paketen (sogenannte Subpakete) enthält.\n",
    "- `__init__.py` ist eine spezielle Python-Datei, die in einem Verzeichnis vorhanden sein muss, damit das Verzeichnis als Paket erkannt wird.\n",
    "\n",
    "#### Aufgabe:\n",
    "1. Erstellen Sie ein Python-Paket namens `math_utils`, das zwei Module enthält: `basic_operations.py` und `advanced_operations.py`.\n",
    "2. Implementieren Sie grundlegende mathematische Operationen in `basic_operations.py`.\n",
    "3. Implementieren Sie eine fortgeschrittene mathematische Funktion in `advanced_operations.py`.\n",
    "4. Schreiben Sie ein Skript, das diese Module importiert und einige Berechnungen durchführt.\n",
    "\n",
    "#### Schritt 1: Erstellen des `math_utils`-Pakets\n",
    "\n",
    "Erstellen Sie eine Verzeichnisstruktur wie folgt:\n",
    "\n",
    "```\n",
    "math_utils/\n",
    "    __init__.py\n",
    "    basic_operations.py\n",
    "    advanced_operations.py\n",
    "main.py\n",
    "```\n",
    "\n",
    "#### Schritt 2: Implementieren der Module\n",
    "\n",
    "##### `basic_operations.py`\n",
    "\n",
    "```python\n",
    "def addiere(a, b):\n",
    "    return a + b\n",
    "\n",
    "def subtrahiere(a, b):\n",
    "    return a - b\n",
    "\n",
    "def multipliziere(a, b):\n",
    "    return a * b\n",
    "\n",
    "def dividiere(a, b):\n",
    "    if b == 0:\n",
    "        raise ValueError(\"Division durch Null ist nicht erlaubt.\")\n",
    "    return a / b\n",
    "```\n",
    "\n",
    "##### `advanced_operations.py`\n",
    "\n",
    "```python\n",
    "import math\n",
    "\n",
    "def berechne_quadratwurzel(x):\n",
    "    if x < 0:\n",
    "        raise ValueError(\"Negative Zahlen haben keine reale Quadratwurzel.\")\n",
    "    return math.sqrt(x)\n",
    "```\n",
    "\n",
    "#### Schritt 3: Implementieren des Hauptskripts\n",
    "\n",
    "##### `main.py`\n",
    "\n",
    "```python\n",
    "from math_utils import basic_operations as bo\n",
    "from math_utils import advanced_operations as ao\n",
    "\n",
    "def main():\n",
    "    # Teste grundlegende Operationen\n",
    "    print(f\"Addition: 5 + 3 = {bo.addiere(5, 3)}\")\n",
    "    print(f\"Subtraktion: 5 - 3 = {bo.subtrahiere(5, 3)}\")\n",
    "    print(f\"Multiplikation: 5 * 3 = {bo.multipliziere(5, 3)}\")\n",
    "    print(f\"Division: 5 / 3 = {bo.dividiere(5, 3)}\")\n",
    "    \n",
    "    # Teste fortgeschrittene Operation\n",
    "    print(f\"Quadratwurzel: √16 = {ao.berechne_quadratwurzel(16)}\")\n",
    "\n",
    "if __name__ == \"__main__\":\n",
    "    main()\n",
    "```\n",
    "\n",
    "#### Schritt 4: Ausführen des Skripts\n",
    "\n",
    "1. Stellen Sie sicher, dass Ihre Verzeichnisstruktur korrekt ist.\n",
    "2. Führen Sie `main.py` aus:\n",
    "\n",
    "```bash\n",
    "python main.py\n",
    "```\n",
    "\n",
    "#### Beispielausgabe:\n",
    "\n",
    "```\n",
    "Addition: 5 + 3 = 8\n",
    "Subtraktion: 5 - 3 = 2\n",
    "Multiplikation: 5 * 3 = 15\n",
    "Division: 5 / 3 = 1.6666666666666667\n",
    "Quadratwurzel: √16 = 4.0\n",
    "```\n",
    "\n",
    "### Zusammenfassung der Aufgabe:\n",
    "\n",
    "- Sie haben ein Paket `math_utils` erstellt.\n",
    "- Sie haben zwei Module (`basic_operations.py` und `advanced_operations.py`) innerhalb des Pakets implementiert.\n",
    "- Sie haben ein Hauptskript (`main.py`) geschrieben, das die Funktionen aus den Modulen importiert und verwendet.\n",
    "- Sie haben den gesamten Prozess von der Paket- und Modul-Erstellung bis zur Verwendung der importierten Funktionen geübt."
   ]
  }
 ],
 "metadata": {
  "kernelspec": {
   "display_name": "Python 3 (ipykernel)",
   "language": "python",
   "name": "python3"
  },
  "language_info": {
   "codemirror_mode": {
    "name": "ipython",
    "version": 3
   },
   "file_extension": ".py",
   "mimetype": "text/x-python",
   "name": "python",
   "nbconvert_exporter": "python",
   "pygments_lexer": "ipython3",
   "version": "3.12.3"
  }
 },
 "nbformat": 4,
 "nbformat_minor": 5
}
