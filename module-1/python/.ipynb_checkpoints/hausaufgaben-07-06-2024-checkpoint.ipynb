{
 "cells": [
  {
   "cell_type": "code",
   "execution_count": 1,
   "id": "0d190da4-8658-43e9-9c97-2005732dc11a",
   "metadata": {},
   "outputs": [
    {
     "name": "stdout",
     "output_type": "stream",
     "text": [
      "[[1, 2, 3, 4, 5]]\n"
     ]
    }
   ],
   "source": [
    "liste = []\n",
    "names = [1,2,3,4,5]\n",
    "liste.append(names)\n",
    "print(liste) # 2d array "
   ]
  },
  {
   "cell_type": "code",
   "execution_count": 3,
   "id": "19dbc749-af47-4a5a-bcce-d105e0463fb0",
   "metadata": {},
   "outputs": [
    {
     "name": "stdout",
     "output_type": "stream",
     "text": [
      "[1, 2, 3, 4, 5]\n"
     ]
    }
   ],
   "source": [
    "liste2 = []\n",
    "for zahl in range(1,6):\n",
    "    liste2.append(zahl)\n",
    "\n",
    "print(liste2)"
   ]
  },
  {
   "cell_type": "code",
   "execution_count": 5,
   "id": "42cff8da-1251-4b17-9b4b-e9d1dcb2d033",
   "metadata": {},
   "outputs": [
    {
     "name": "stdout",
     "output_type": "stream",
     "text": [
      "[1, 2, 3, 4, 5]\n",
      "3\n"
     ]
    }
   ],
   "source": [
    "# list comprehensions\n",
    "liste3 = [zahl for zahl in range(1,6)]\n",
    "print(liste3)\n",
    "\n",
    "print(liste3[2])"
   ]
  },
  {
   "cell_type": "code",
   "execution_count": 7,
   "id": "8d933340-86c0-4e87-b7c3-c2e8ae3da514",
   "metadata": {},
   "outputs": [
    {
     "name": "stdout",
     "output_type": "stream",
     "text": [
      "c\n"
     ]
    }
   ],
   "source": [
    "# Erstellen Sie eine Liste mit den Werten ['a', 'b', 'c', 'd'] \n",
    "# und geben Sie das dritte Element aus.\n",
    "\n",
    "liste4 = ['a', 'b', 'c', 'd']\n",
    "print(liste4[2])\n",
    "\n"
   ]
  },
  {
   "cell_type": "code",
   "execution_count": 19,
   "id": "7960e50b-616a-40a2-afc0-e30eb841f5b5",
   "metadata": {},
   "outputs": [
    {
     "name": "stdout",
     "output_type": "stream",
     "text": [
      "das ist der type von range: <class 'range'>\n",
      "das ist der typ von list: <class 'list'>\n",
      "DIMI\n",
      "<class 'list'>\n",
      "[1, 2, 3, 4]\n",
      "range(1, 4)\n"
     ]
    }
   ],
   "source": [
    "list_range = range(1,4)\n",
    "real_list = [1,2,3]\n",
    "print(f\"das ist der type von range: {type(list_range)}\")\n",
    "print(f\"das ist der typ von list: {type(real_list)}\")\n",
    "\n",
    "# jeder typ ist ein container aka box\n",
    "# jeder typ hat verschiedene methoden/funktionen wie man die daten inside the box manipulieren kann\n",
    "# bei list gibt die methode append() am Ende wird etwas angehängt\n",
    "# bei range gibt es die methode append() nicht, weil keine liste ist!!!!\n",
    "\n",
    "my_name = \"dimi\"\n",
    "print(my_name.upper())\n",
    "\n",
    "# typecast bedeuetet du machst aus der range eine liste\n",
    "# und da bei der liste dann die methode append gibt, dann kannst du es dort anwenden\n",
    "typecasted = list(list_range)\n",
    "print(type(typecasted))\n",
    "\n",
    "typecasted.append(4)\n",
    "\n",
    "print(typecasted)\n",
    "#list_range.append(4)\n",
    "print(list_range)"
   ]
  },
  {
   "cell_type": "code",
   "execution_count": null,
   "id": "b824cd9b-2756-4bd9-a308-9415441084c3",
   "metadata": {},
   "outputs": [],
   "source": []
  }
 ],
 "metadata": {
  "kernelspec": {
   "display_name": "Python 3 (ipykernel)",
   "language": "python",
   "name": "python3"
  },
  "language_info": {
   "codemirror_mode": {
    "name": "ipython",
    "version": 3
   },
   "file_extension": ".py",
   "mimetype": "text/x-python",
   "name": "python",
   "nbconvert_exporter": "python",
   "pygments_lexer": "ipython3",
   "version": "3.12.3"
  }
 },
 "nbformat": 4,
 "nbformat_minor": 5
}
