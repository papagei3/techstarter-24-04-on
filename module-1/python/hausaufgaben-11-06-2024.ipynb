{
 "cells": [
  {
   "cell_type": "code",
   "execution_count": 5,
   "id": "7e76af17-421e-4e2b-a4e0-b050efbfcf53",
   "metadata": {},
   "outputs": [
    {
     "name": "stdout",
     "output_type": "stream",
     "text": [
      "<class 'tuple'>\n",
      "<class 'str'> <class 'str'>\n"
     ]
    }
   ],
   "source": [
    "import hashlib\n",
    "\n",
    "def generate_login(name, password):\n",
    "    hashed_password = hashlib.sha256(password.encode()).hexdigest()\n",
    "    return (name, hashed_password) #<<< als return wird hier ein tupple zurückgegeben\n",
    "\n",
    "\n",
    "# userdata = generate_login(\"Ilona\", \"12345\")\n",
    "username, password = generate_login(\"Ilona\", \"12345\")\n",
    "print(type(userdata))\n",
    "print(type(username), type(password))\n",
    "# print(username, password)\n",
    "    "
   ]
  },
  {
   "cell_type": "code",
   "execution_count": 9,
   "id": "997dc0ea-2596-48e2-945d-586e99a375d4",
   "metadata": {},
   "outputs": [
    {
     "name": "stdout",
     "output_type": "stream",
     "text": [
      "3.12.3 (main, Apr  9 2024, 08:09:14) [Clang 15.0.0 (clang-1500.3.9.4)]\n"
     ]
    }
   ],
   "source": [
    "import sys\n",
    "\n",
    "print(sys.version)"
   ]
  },
  {
   "cell_type": "code",
   "execution_count": 10,
   "id": "c74ab72a-cc45-4469-bfea-854b0acc4a8b",
   "metadata": {},
   "outputs": [],
   "source": [
    "import uuid"
   ]
  },
  {
   "cell_type": "code",
   "execution_count": 13,
   "id": "7e54c5dc-8a77-4f3a-ade5-23c8584e0ba4",
   "metadata": {},
   "outputs": [
    {
     "name": "stdout",
     "output_type": "stream",
     "text": [
      "2c868644-2d11-463e-a0f3-2219f63cae43\n"
     ]
    }
   ],
   "source": [
    "print(\n",
    "    uuid.uuid4()\n",
    ")\n",
    "\n",
    "# id: 2c868644-2d11-463e-a0f3-2219f63cae43 name: Tamia\n",
    "# id: 2c868644-2d11-463e-a0f3-2219f63cae434 name: Uwe <<< jemand versucht hier den eintrag zu machen?\n",
    "# fehlermeldung dass die id bereits vorhanden ist, aber wir können den ersten eintrag trotzdem überschreiben !!!\n",
    "\n",
    "# dieses feature ist inkludiert bei einem RDS\n",
    "# id: 1\n",
    "# ...\n",
    "# id: 100\n",
    "\n",
    "# wenn wir mit NoSQL\n",
    "# sowas muss man dann programmieren (in der Regel)\n",
    "# bei NoSQL muss man in der regel mit uuidv4 arbeiten und keine aufzählung !!!"
   ]
  },
  {
   "cell_type": "code",
   "execution_count": null,
   "id": "1afed642-51d6-4b9e-b479-b35bdd560411",
   "metadata": {},
   "outputs": [],
   "source": []
  }
 ],
 "metadata": {
  "kernelspec": {
   "display_name": "Python 3 (ipykernel)",
   "language": "python",
   "name": "python3"
  },
  "language_info": {
   "codemirror_mode": {
    "name": "ipython",
    "version": 3
   },
   "file_extension": ".py",
   "mimetype": "text/x-python",
   "name": "python",
   "nbconvert_exporter": "python",
   "pygments_lexer": "ipython3",
   "version": "3.12.3"
  }
 },
 "nbformat": 4,
 "nbformat_minor": 5
}
