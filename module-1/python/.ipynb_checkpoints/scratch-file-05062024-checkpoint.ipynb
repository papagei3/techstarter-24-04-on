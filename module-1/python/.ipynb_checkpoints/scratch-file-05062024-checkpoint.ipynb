{
 "cells": [
  {
   "cell_type": "code",
   "execution_count": 10,
   "id": "1de98023-3f2e-48f6-a3b0-d0d2e80d547e",
   "metadata": {},
   "outputs": [
    {
     "name": "stdout",
     "output_type": "stream",
     "text": [
      "DIMI dimi 6 g DIMI\n",
      "das ist mein magic string mit der 10\n",
      "das ist mein magic string mit der 10\n"
     ]
    }
   ],
   "source": [
    "# Datentyp string hat methoden\n",
    "# die methoded können strings manipulieren\n",
    "\"string\"\n",
    "'string'\n",
    "\n",
    "# variable name firstname\n",
    "firstname = \"dimi\"\n",
    "\n",
    "print( \n",
    "    # wende direkt eine methode auf den string wert\n",
    "    \"dimi\".upper(),\n",
    "    \"dimi\".lower(),\n",
    "    len(\"Marcus\"), # << das ist eine funktion\n",
    "    \"string\"[5],\n",
    "    # 1step: aus der memory den wert welcher unter firstname steckt auslesen\n",
    "    # 2step: wende die methode an\n",
    "    firstname.upper()\n",
    ")\n",
    "\n",
    "zahl = 10\n",
    "print(f\"das ist mein magic string mit der {zahl}\")\n",
    "print(f'das ist mein magic string mit der {zahl}')"
   ]
  },
  {
   "cell_type": "code",
   "execution_count": 14,
   "id": "71d3d9f5-d5cd-46b8-8cf3-6dad92392ba9",
   "metadata": {},
   "outputs": [
    {
     "name": "stdout",
     "output_type": "stream",
     "text": [
      "True\n",
      "False\n",
      "ja ist grösser\n",
      "kommt aus dem else\n"
     ]
    }
   ],
   "source": [
    "# boolean\n",
    "# True or False\n",
    "\n",
    "print(6 > 5) # ergeben dann ein True or False\n",
    "print(5 > 6) # ergeben dann ein True or False\n",
    "\n",
    "if 6 > 5:\n",
    "    print(\"ja ist grösser\")\n",
    "\n",
    "if 5 > 6:\n",
    "    print(\"ja ist größer\")\n",
    "else:\n",
    "    print(\"kommt aus dem else\")    \n",
    "\n"
   ]
  },
  {
   "cell_type": "code",
   "execution_count": null,
   "id": "129eafb9-bc2c-4f3d-921b-46bf45209dc7",
   "metadata": {},
   "outputs": [],
   "source": []
  }
 ],
 "metadata": {
  "kernelspec": {
   "display_name": "Python 3 (ipykernel)",
   "language": "python",
   "name": "python3"
  },
  "language_info": {
   "codemirror_mode": {
    "name": "ipython",
    "version": 3
   },
   "file_extension": ".py",
   "mimetype": "text/x-python",
   "name": "python",
   "nbconvert_exporter": "python",
   "pygments_lexer": "ipython3",
   "version": "3.12.3"
  }
 },
 "nbformat": 4,
 "nbformat_minor": 5
}
