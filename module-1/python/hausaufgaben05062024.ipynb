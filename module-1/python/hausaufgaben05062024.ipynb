{
 "cells": [
  {
   "cell_type": "code",
   "execution_count": 5,
   "id": "34e3faea-9b04-44b9-861c-73d806b53f97",
   "metadata": {},
   "outputs": [
    {
     "name": "stdout",
     "output_type": "stream",
     "text": [
      "Hello techstarter\n"
     ]
    }
   ],
   "source": [
    "print(\"Hello techstarter\")"
   ]
  },
  {
   "cell_type": "code",
   "execution_count": 2,
   "id": "329dc930-817f-465b-a90b-c08dc75b3ce4",
   "metadata": {},
   "outputs": [
    {
     "name": "stdout",
     "output_type": "stream",
     "text": [
      "['Ilona', 'Kaho', 'Marcus']\n"
     ]
    }
   ],
   "source": [
    "names = [\"Ilona\", \"Kaho\", \"Marcus\"]\n",
    "print(names)"
   ]
  },
  {
   "cell_type": "code",
   "execution_count": 4,
   "id": "443255b0-db14-4a07-ad8d-0d6a3db89d61",
   "metadata": {},
   "outputs": [
    {
     "name": "stdout",
     "output_type": "stream",
     "text": [
      "Unsere Teilnehmer:  Ilona\n",
      "Unsere Teilnehmer:  Kaho\n",
      "Unsere Teilnehmer:  Marcus\n"
     ]
    }
   ],
   "source": [
    "for name in names:\n",
    "    print(\"Unsere Teilnehmer: \", name)"
   ]
  },
  {
   "cell_type": "code",
   "execution_count": 7,
   "id": "6dcae90d-1080-4024-a169-75b2a76f5eb1",
   "metadata": {},
   "outputs": [
    {
     "name": "stdout",
     "output_type": "stream",
     "text": [
      "Unsere Teilnhemer:  Ilona\n",
      "Unsere Teilnhemer:  Kaho\n",
      "Unsere Teilnhemer:  Marcus\n"
     ]
    }
   ],
   "source": [
    "# list comperehension = Listenabstraktion\n",
    "\n",
    "liste = [print(\"Unsere Teilnhemer: \", name) for name in names]\n",
    "\n"
   ]
  },
  {
   "cell_type": "code",
   "execution_count": 15,
   "id": "180b04d9-8fc5-41ac-8978-f2adca42cd3a",
   "metadata": {},
   "outputs": [
    {
     "name": "stdout",
     "output_type": "stream",
     "text": [
      "[1, 2, 3, 4, 5]\n",
      "1\n",
      "2\n",
      "3\n",
      "4\n",
      "5\n",
      "[1, 2, 3, 4, 5]\n",
      "new_list [1, 2, 3, 4, 5]\n"
     ]
    }
   ],
   "source": [
    "liste = []\n",
    "\n",
    "# start is included\n",
    "# stop is not included\n",
    "# von 1 bis 6 ; die 6 wird hier nicht inkludiert\n",
    "\n",
    "# 👇 imperative\n",
    "x = []\n",
    "x.append(1)\n",
    "x.append(2)\n",
    "x.append(3)\n",
    "x.append(4)\n",
    "x.append(5)\n",
    "\n",
    "print(x)\n",
    "\n",
    "# 👇 declarative\n",
    "for number in range(1, 6): # valide lösung\n",
    "  liste.append(number)\n",
    "\n",
    "print(liste)\n",
    "\n",
    "# 👇 declarative\n",
    "new_list = list(range(1,6)) # auch eine valide lösung \n",
    "\n",
    "print(\"new_list\", new_list)"
   ]
  },
  {
   "cell_type": "code",
   "execution_count": 24,
   "id": "098ad0e5-343e-4696-8552-d904df66d72f",
   "metadata": {},
   "outputs": [
    {
     "name": "stdout",
     "output_type": "stream",
     "text": [
      "Mein alter ist :  30\n",
      "Mein alter ist :  30\n",
      "30 << so funktoniert ein magic string\n",
      "Ich bin in Stuttgart in Deutschland aufgewachsen\n",
      "Ich bin in Stuttgart in Deutschland aufgewachsen\n"
     ]
    }
   ],
   "source": [
    "# magic string\n",
    "\n",
    "alter = 30\n",
    "city = \"Stuttgart\"\n",
    "country = \"Deutschland\"\n",
    "\n",
    "print(\"Mein alter ist : \", alter)\n",
    "print(f\"Mein alter ist :  {alter}\")\n",
    "print(f\"{alter} << so funktoniert ein magic string\")\n",
    "\n",
    "print(f\"Ich bin in {city} in {country} aufgewachsen\") # <<< preferred variant to use!!!\n",
    "\n",
    "print(\"Ich bin in \" + city + \" in \" + country + \" aufgewachsen\")"
   ]
  },
  {
   "cell_type": "code",
   "execution_count": 36,
   "id": "a6fec425-d18f-4a4c-be99-6d736d959084",
   "metadata": {},
   "outputs": [
    {
     "name": "stdout",
     "output_type": "stream",
     "text": [
      "10 ist grosser als 5\n",
      "10 ist größer als 50!\n",
      "Die Zahl 50 ist größer als 10\n"
     ]
    }
   ],
   "source": [
    "#prüfen ob 10 größerist als 5\n",
    "# (10 > 5)\n",
    "if 20 > 5:\n",
    "    print(\"10 ist grosser als 5\")\n",
    "\n",
    "#gebe die überprüfung aus\n",
    "print(\"10 ist größer als 50!\")\n",
    "\n",
    "# Lösung #2\n",
    "\n",
    "# 👇 nur die zahl variable muss angepasst werden wenn sich die aufgabenstellung ändert!!!\n",
    "zahl1 = 50\n",
    "zahl2 = 10\n",
    "\n",
    "# 👇 dieser teil muss nie geändert werden\n",
    "if zahl1 > zahl2:\n",
    "    print(f\"Die Zahl {zahl1} ist größer als {zahl2}\")\n",
    "else:\n",
    "    print(f\"Die Zahl {zahl1} is nicht größser als {zahl2}\")\n",
    "\n"
   ]
  },
  {
   "cell_type": "code",
   "execution_count": 41,
   "id": "ec89383f-fc7d-4abc-ab6f-f07d923efd72",
   "metadata": {},
   "outputs": [
    {
     "name": "stdout",
     "output_type": "stream",
     "text": [
      "die liste ist leer\n"
     ]
    }
   ],
   "source": [
    "liste = []\n",
    "\n",
    "if len(liste) == 0: # << explizit\n",
    "    print(\"die liste ist leer\")\n",
    "else:\n",
    "    print(\"die liste ist nicht leer\")"
   ]
  },
  {
   "cell_type": "code",
   "execution_count": 42,
   "id": "b006de90-86a6-4cee-b292-3f67616bd8ee",
   "metadata": {},
   "outputs": [
    {
     "name": "stdout",
     "output_type": "stream",
     "text": [
      "2\n"
     ]
    }
   ],
   "source": [
    "rest = 17%5\n",
    "# https://realpython.com/python-modulo-operator/\n",
    "print(f\"modulo: {rest}\")"
   ]
  },
  {
   "cell_type": "code",
   "execution_count": 43,
   "id": "75a233f2-9c73-43c1-91c3-319b7c927587",
   "metadata": {},
   "outputs": [
    {
     "name": "stdout",
     "output_type": "stream",
     "text": [
      "hallowelt\n"
     ]
    }
   ],
   "source": [
    "print(\"hallo\" + \"welt\")"
   ]
  },
  {
   "cell_type": "code",
   "execution_count": null,
   "id": "a9cab273-a429-4b62-a7cf-11427025e8aa",
   "metadata": {},
   "outputs": [],
   "source": [
    "{\"key\": \"value\"}"
   ]
  }
 ],
 "metadata": {
  "kernelspec": {
   "display_name": "Python 3 (ipykernel)",
   "language": "python",
   "name": "python3"
  },
  "language_info": {
   "codemirror_mode": {
    "name": "ipython",
    "version": 3
   },
   "file_extension": ".py",
   "mimetype": "text/x-python",
   "name": "python",
   "nbconvert_exporter": "python",
   "pygments_lexer": "ipython3",
   "version": "3.12.3"
  }
 },
 "nbformat": 4,
 "nbformat_minor": 5
}
