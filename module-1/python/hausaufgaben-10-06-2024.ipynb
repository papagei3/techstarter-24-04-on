{
 "cells": [
  {
   "cell_type": "code",
   "execution_count": 1,
   "id": "8bd538e9-5a7c-4216-81e7-1a7e0a8befa2",
   "metadata": {},
   "outputs": [],
   "source": [
    "# primitive data types\n",
    "\n",
    "\n",
    "name = \"Dimi\"\n",
    "\n",
    "# complex data types\n",
    "\n",
    "names = [\"Abi\", \"Marcus\", \"Ilona\"] #[str, str, str]\n",
    "\n",
    "# inference it will be inferred\n",
    "\n",
    "\n",
    "\n"
   ]
  },
  {
   "cell_type": "code",
   "execution_count": null,
   "id": "e361eb6b-944d-4590-897c-1b17e19ed560",
   "metadata": {},
   "outputs": [],
   "source": [
    "# für config \n",
    "is_ssl_active = True # False\n",
    "is_server_running = True or False\n",
    "\n",
    "# für if else etc...\n",
    "\n",
    "if True:\n",
    "    print(\"true\")\n",
    "else:\n",
    "    print(\"false\")\n",
    "\n"
   ]
  },
  {
   "cell_type": "code",
   "execution_count": 4,
   "id": "d96afb2d-e221-4950-a766-70bdd405e265",
   "metadata": {},
   "outputs": [
    {
     "name": "stdout",
     "output_type": "stream",
     "text": [
      "False\n"
     ]
    }
   ],
   "source": [
    "\n",
    "def start_server():\n",
    "    is_running = False # local\n",
    "    print(is_running)\n",
    "    if is_running == True:\n",
    "        print(\"do nothing\")\n",
    "    else:\n",
    "        is_running = True\n",
    "\n",
    "start_server()\n",
    "\n"
   ]
  },
  {
   "cell_type": "code",
   "execution_count": null,
   "id": "77bbe863-7448-4c71-a55a-cb9e9d76ac9d",
   "metadata": {},
   "outputs": [],
   "source": [
    "t = (1,2,3,4) # tuple\n",
    "l = [1,2,3,4] # list\n",
    "\n",
    "d = {\n",
    "    \"name\": \"Ilona\"\n",
    "    \"age\": 20\n",
    "    \"certificates\": [\"aws\", \"azure\", \"google\"]\n",
    "    \"address\": {\n",
    "        \"city\": \"Berlin\",\n",
    "    }\n",
    "}\n",
    "\n",
    "l = [\n",
    "    {\"id\": 1, \"city\": \"Stuttgart\"}\n",
    "    {\"id\": 2, \"city\": \"Frankfrut\"}\n",
    "]"
   ]
  },
  {
   "cell_type": "code",
   "execution_count": null,
   "id": "a482499a-c1ca-47fb-b336-2024b4f4964a",
   "metadata": {},
   "outputs": [],
   "source": [
    "l = [\"Kaho\", \"Christian\", \"Ilona\"]\n",
    "l[0] # Kaho\n",
    "\n",
    "d = {\n",
    "    \"name2\": \"Christian\",\n",
    "    \"name3\": \"Ilona\",\n",
    "    \"name\": \"Kaho\"\n",
    "}\n",
    "\n",
    "d[\"name\"]\n",
    "\n",
    "# name1, name2, name3 = (\"Kaho\", \"Christian\", \"Ilona\") # destructuring"
   ]
  },
  {
   "cell_type": "code",
   "execution_count": null,
   "id": "d9444b7b-f480-47e1-aeee-ec84886e60df",
   "metadata": {},
   "outputs": [],
   "source": [
    "Wie lautet die Ausgabe des folgenden Codes?\n",
    "\n",
    "\n",
    "x = 5 # global scope\n",
    "\n",
    "def f():\n",
    " x = 10 # local scope\n",
    "return x\n",
    "\n",
    "print(f()) # 10\n",
    "print(x) # 5\n",
    "10 5"
   ]
  },
  {
   "cell_type": "code",
   "execution_count": 11,
   "id": "26cd8c92-173a-4e44-9790-dc10da4e0cf9",
   "metadata": {},
   "outputs": [
    {
     "name": "stdout",
     "output_type": "stream",
     "text": [
      "('Christian', 'Katharina')\n"
     ]
    },
    {
     "data": {
      "text/plain": [
       "'\\nprint(\\n    l[index_kaho], # -> l[0]\\n    l[index_katharina] # -> l[2]\\n)\\n'"
      ]
     },
     "execution_count": 11,
     "metadata": {},
     "output_type": "execute_result"
    }
   ],
   "source": [
    "l = [\"Kaho\", \"Christian\", \"Katharina\"]\n",
    "\n",
    "index_kaho = l.index(\"Kaho\")\n",
    "index_katharina = l.index(\"Katharina\")\n",
    "    \n",
    "\n",
    "print(\n",
    "    l[index_kaho], # -> l[0]\n",
    "    l[index_katharina] # -> l[2]\n",
    ")\n",
    "\n",
    "def func1(param):\n",
    "    pass\n",
    "\n",
    "def func2(param):\n",
    "    pass\n",
    "\n",
    "def func3(param):\n",
    "    pass\n",
    "\n",
    "func3(func2(func_1(\"Dimi\")))"
   ]
  },
  {
   "cell_type": "code",
   "execution_count": 14,
   "id": "1d3633c3-45c4-4f76-b415-e214b25d0ee4",
   "metadata": {},
   "outputs": [
    {
     "name": "stdout",
     "output_type": "stream",
     "text": [
      "ja es stimmt alles\n"
     ]
    }
   ],
   "source": [
    "if (10 > 5) or (0 < 5):\n",
    "    print(\"ja es stimmt alles\")\n"
   ]
  },
  {
   "cell_type": "code",
   "execution_count": null,
   "id": "f004379c-e67a-4ff7-8ebc-73e78b9c96d0",
   "metadata": {},
   "outputs": [],
   "source": []
  }
 ],
 "metadata": {
  "kernelspec": {
   "display_name": "Python 3 (ipykernel)",
   "language": "python",
   "name": "python3"
  },
  "language_info": {
   "codemirror_mode": {
    "name": "ipython",
    "version": 3
   },
   "file_extension": ".py",
   "mimetype": "text/x-python",
   "name": "python",
   "nbconvert_exporter": "python",
   "pygments_lexer": "ipython3",
   "version": "3.12.3"
  }
 },
 "nbformat": 4,
 "nbformat_minor": 5
}
