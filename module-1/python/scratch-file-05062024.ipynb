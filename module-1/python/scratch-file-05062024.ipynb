{
 "cells": [
  {
   "cell_type": "code",
   "execution_count": 10,
   "id": "1de98023-3f2e-48f6-a3b0-d0d2e80d547e",
   "metadata": {},
   "outputs": [
    {
     "name": "stdout",
     "output_type": "stream",
     "text": [
      "DIMI dimi 6 g DIMI\n",
      "das ist mein magic string mit der 10\n",
      "das ist mein magic string mit der 10\n"
     ]
    }
   ],
   "source": [
    "# Datentyp string hat methoden\n",
    "# die methoded können strings manipulieren\n",
    "\"string\"\n",
    "'string'\n",
    "\n",
    "# variable name firstname\n",
    "firstname = \"dimi\"\n",
    "\n",
    "print( \n",
    "    # wende direkt eine methode auf den string wert\n",
    "    \"dimi\".upper(),\n",
    "    \"dimi\".lower(),\n",
    "    len(\"Marcus\"), # << das ist eine funktion\n",
    "    \"string\"[5],\n",
    "    # 1step: aus der memory den wert welcher unter firstname steckt auslesen\n",
    "    # 2step: wende die methode an\n",
    "    firstname.upper()\n",
    ")\n",
    "\n",
    "zahl = 10\n",
    "print(f\"das ist mein magic string mit der {zahl}\")\n",
    "print(f'das ist mein magic string mit der {zahl}')"
   ]
  },
  {
   "cell_type": "code",
   "execution_count": 14,
   "id": "71d3d9f5-d5cd-46b8-8cf3-6dad92392ba9",
   "metadata": {},
   "outputs": [
    {
     "name": "stdout",
     "output_type": "stream",
     "text": [
      "True\n",
      "False\n",
      "ja ist grösser\n",
      "kommt aus dem else\n"
     ]
    }
   ],
   "source": [
    "# boolean\n",
    "# True or False\n",
    "\n",
    "print(6 > 5) # ergeben dann ein True or False\n",
    "print(5 > 6) # ergeben dann ein True or False\n",
    "\n",
    "if 6 > 5:\n",
    "    print(\"ja ist grösser\")\n",
    "\n",
    "if 5 > 6:\n",
    "    print(\"ja ist größer\")\n",
    "else:\n",
    "    print(\"kommt aus dem else\")    \n",
    "\n"
   ]
  },
  {
   "cell_type": "code",
   "execution_count": 25,
   "id": "129eafb9-bc2c-4f3d-921b-46bf45209dc7",
   "metadata": {},
   "outputs": [
    {
     "name": "stdout",
     "output_type": "stream",
     "text": [
      "5\n",
      "das ist der wert von 0\n",
      "das ist der wert von 0\n",
      "das ist der wert nach += 0\n",
      "das ist der wert von 0\n",
      "das ist der wert von 1\n",
      "das ist der wert nach += 1\n",
      "das ist der wert von 1\n",
      "das ist der wert von 2\n",
      "das ist der wert nach += 3\n",
      "das ist der wert von 3\n",
      "das ist der wert von 3\n",
      "das ist der wert nach += 6\n",
      "das ist der wert von 6\n",
      "das ist der wert von 4\n",
      "das ist der wert nach += 10\n",
      "endwert of 10\n",
      "Marcus\n",
      "Ilona\n",
      "Marius\n"
     ]
    }
   ],
   "source": [
    "# Operatoren\n",
    "# math 👇👇\n",
    "5 + 5\n",
    "10 / 10\n",
    "10 - 10\n",
    "10 * 10\n",
    "\n",
    "# zuweisung 👇\n",
    "\n",
    "# = die werte einer variable zuweisen\n",
    "# +=\n",
    "\n",
    "count = 0\n",
    "\n",
    "# count += 1\n",
    "# count = count + 1 # 1\n",
    "count += 5\n",
    "\n",
    "print(count)\n",
    "\n",
    "zahl = 0\n",
    "\n",
    "# range(5)\n",
    "#0, 1, 2, 3, 4\n",
    "# range(1,5)\n",
    "# 1,2,3,4\n",
    "# for number in range(5)\n",
    "# is das gleiche wie for number in [0,1,2,3,4]\n",
    "for number in [0,1,2,3,4]: # 1,2,3,4\n",
    "    print(f\"das ist der wert von {zahl}\")\n",
    "    print(f\"das ist der wert von {number}\")\n",
    "    # + 0\n",
    "    # + 1\n",
    "    # + 2\n",
    "    # + 3\n",
    "    #....\n",
    "    zahl += number\n",
    "    #zahl = zahl + number\n",
    "    print(f\"das ist der wert nach += {zahl}\")\n",
    "\n",
    "print(f\"endwert of {zahl}\")\n",
    "\n",
    "for name in [\"Marcus\", \"Ilona\", \"Marius\"]:\n",
    "    print(name)"
   ]
  },
  {
   "cell_type": "code",
   "execution_count": 27,
   "id": "c38cf69b-c3a2-4121-8c9e-5c4cca62feeb",
   "metadata": {},
   "outputs": [
    {
     "name": "stdin",
     "output_type": "stream",
     "text": [
      "Gebe irgendwas ein:  hallo\n"
     ]
    },
    {
     "name": "stdout",
     "output_type": "stream",
     "text": [
      "hallo\n"
     ]
    }
   ],
   "source": [
    "x = input(\"Gebe irgendwas ein: \")\n",
    "print(x)"
   ]
  },
  {
   "cell_type": "code",
   "execution_count": 35,
   "id": "d069a442-18c8-4282-8f69-4595f83c7d8a",
   "metadata": {},
   "outputs": [
    {
     "name": "stdin",
     "output_type": "stream",
     "text": [
      "Gebe ein Zahl ein:  50\n"
     ]
    },
    {
     "name": "stdout",
     "output_type": "stream",
     "text": [
      "das ist der typ der eingabe: sollte eine Zahl sein. Ist aber. <class 'str'>\n",
      "das ist der typ der typecasted eingabe: <class 'int'>\n",
      "100\n"
     ]
    }
   ],
   "source": [
    "eingabe = input(\"Gebe ein Zahl ein: \")\n",
    "# typecasting wir müssen von str in int die eingabe umwandeln\n",
    "typecasted = int(eingabe)\n",
    "print(f\"das ist der typ der eingabe: sollte eine Zahl sein. Ist aber. {type(eingabe)}\")\n",
    "print(f\"das ist der typ der typecasted eingabe: {type(typecasted)}\")\n",
    "\n",
    "print(typecasted + 50)\n",
    "\n",
    "\n"
   ]
  },
  {
   "cell_type": "code",
   "execution_count": 54,
   "id": "ba39decd-67c0-4b46-815e-5f370f1ecec3",
   "metadata": {},
   "outputs": [
    {
     "name": "stdin",
     "output_type": "stream",
     "text": [
      "Gebe eine zahl ein:  50\n"
     ]
    },
    {
     "name": "stdout",
     "output_type": "stream",
     "text": [
      "<class 'str'>\n",
      "False\n",
      "from if block\n"
     ]
    },
    {
     "ename": "Exception",
     "evalue": "Sorry, this is not a number",
     "output_type": "error",
     "traceback": [
      "\u001b[0;31m---------------------------------------------------------------------------\u001b[0m",
      "\u001b[0;31mException\u001b[0m                                 Traceback (most recent call last)",
      "Cell \u001b[0;32mIn[54], line 14\u001b[0m\n\u001b[1;32m     12\u001b[0m \u001b[38;5;28;01mif\u001b[39;00m \u001b[38;5;28misinstance\u001b[39m(eingabe, \u001b[38;5;28mstr\u001b[39m):\n\u001b[1;32m     13\u001b[0m     \u001b[38;5;28mprint\u001b[39m(\u001b[38;5;124m\"\u001b[39m\u001b[38;5;124mfrom if block\u001b[39m\u001b[38;5;124m\"\u001b[39m)\n\u001b[0;32m---> 14\u001b[0m     \u001b[38;5;28;01mraise\u001b[39;00m \u001b[38;5;167;01mException\u001b[39;00m(\u001b[38;5;124m\"\u001b[39m\u001b[38;5;124mSorry, this is not a number\u001b[39m\u001b[38;5;124m\"\u001b[39m)\n\u001b[1;32m     16\u001b[0m \u001b[38;5;28mprint\u001b[39m(\u001b[38;5;124m\"\u001b[39m\u001b[38;5;124mab hier solles nicht weiterlaufen\u001b[39m\u001b[38;5;124m\"\u001b[39m)\n\u001b[1;32m     18\u001b[0m \u001b[38;5;28;01mif\u001b[39;00m \u001b[38;5;241m50\u001b[39m \u001b[38;5;241m==\u001b[39m \u001b[38;5;28mint\u001b[39m(\u001b[38;5;124m\"\u001b[39m\u001b[38;5;124m50\u001b[39m\u001b[38;5;124m\"\u001b[39m):\n",
      "\u001b[0;31mException\u001b[0m: Sorry, this is not a number"
     ]
    }
   ],
   "source": [
    "import sys\n",
    "\n",
    "eingabe = input(\"Gebe eine zahl ein: \")\n",
    "\n",
    "print(type(eingabe)) # das ist ein string, aber jetzt möchste ich es im if statement vergleiche\n",
    "print(type(eingabe) == \"str\") # das ergibt ein False?\n",
    "\n",
    "# ich möchte wissen ob die eingabe ein string ist\n",
    "# wenn die eingabe ein string ist soll das programm beeendet werden!!\n",
    "\n",
    "if isinstance(eingabe, str):\n",
    "    print(\"from if block\")\n",
    "    raise Exception(\"Sorry, this is not a number\")\n",
    "\n",
    "print(\"ab hier solles nicht weiterlaufen\")\n",
    "\n",
    "if 50 == int(\"50\"):\n",
    "    print(\"ja die beiden werte sind gleich???\")\n"
   ]
  },
  {
   "cell_type": "code",
   "execution_count": 70,
   "id": "e2834d5f-a6ec-412c-afe7-624fcc827a22",
   "metadata": {},
   "outputs": [
    {
     "name": "stdout",
     "output_type": "stream",
     "text": [
      "{'Kaho': '0711 39394304', 'Christian': '0711 9493035'}\n",
      "hier ist  mein telefonbuch {'Kaho': '0711 39394304', 'Christian': '0711 9493035'}\n",
      "0711 39394304 None\n",
      "Aoyama\n",
      "Petrita\n",
      "['Kaho', 'DimiTarasowski', 'Marius']\n",
      "0711 212121\n",
      "0711 202020\n",
      "0711 55 55 55\n",
      "{'Max': '0711 202020', 'Anna': '0711 212121', 'Kaho': '0711 55 55 55'}\n"
     ]
    }
   ],
   "source": [
    "# datentypen\n",
    "# numeric\n",
    "# string\n",
    "# lists\n",
    "# dict (dictionary) <<\n",
    "# functions <<\n",
    "\n",
    "telefonbuch = {\n",
    "    # key   # value\n",
    "    \"Max\": \"0711 202020\",\n",
    "    # key  # value\n",
    "    \"Anna\": \"0711 212121\"\n",
    "}\n",
    "\n",
    "annas_number = telefonbuch.get(\"Anna\")\n",
    "max_number = telefonbuch.get(\"Max\")\n",
    "\n",
    "# hier die nummer von kaho hinzufügen\n",
    "telefonbuch[\"Kaho\"] = \"0711 55 55 55\"\n",
    "\n",
    "kahos_number = telefonbuch.get(\"Kaho\")\n",
    "\n",
    "names = [\"Kaho\", \"Dimi\" \"Tarasowski\", \"Marius\"]\n",
    "\n",
    "# wir möchten ein Telefonbuch erstellen\n",
    "# danach möchsten wir über einen namen die nummer rausbekommen\n",
    "\n",
    "telbuch = [\"Kaho\" \"0711 9309439\"]\n",
    "\n",
    "\n",
    "telbuch = {\n",
    "    \"Kaho\": \"0711 39394304\",\n",
    "    \"Christian\": \"0711 9493035\"\n",
    "}\n",
    "\n",
    "print(telbuch)\n",
    "print(f\"hier ist  mein telefonbuch {telbuch}\")\n",
    "\n",
    "print(\n",
    "    telbuch.get(\"Kaho\"),\n",
    "    telbuch.get(\"Marius\")\n",
    ")\n",
    "\n",
    "fullnames = {\n",
    "    \"Kaho\": \"Aoyama\",\n",
    "    \"Dimi\": \"Tarasowski\",\n",
    "    \"Marius\": \"Petrita\"\n",
    "}\n",
    "\n",
    "\n",
    "print(fullnames.get(\"Kaho\"))\n",
    "print(fullnames.get(\"Marius\"))\n",
    "\n",
    "print(names)\n",
    "print(annas_number)\n",
    "print(max_number)\n",
    "print(kahos_number)\n",
    "\n",
    "print(telefonbuch)\n",
    "\n",
    "\n"
   ]
  },
  {
   "cell_type": "code",
   "execution_count": 77,
   "id": "abfd2641-50fb-42be-ab72-2cba91298f50",
   "metadata": {},
   "outputs": [
    {
     "name": "stdout",
     "output_type": "stream",
     "text": [
      "dict_keys(['Marius', 'dimitri', 'Ilona'])\n",
      "dict_values(['08394939943', '0711 3949345', '0719393939'])\n"
     ]
    }
   ],
   "source": [
    "telefonbuch = {\n",
    "    \"Marius\": \"08394939943\",\n",
    "    \"dimitri\": \"0711 3949345\",\n",
    "    \"Ilona\": \"0719393939\"\n",
    "}\n",
    "\n",
    "# print(telefonbuch)\n",
    "#print(telefonbuch.get(\"Marius\"))\n",
    "print(telefonbuch.keys())\n",
    "print(telefonbuch.values())\n",
    "\n",
    "\n",
    "# sind 5% von Python die man verstehen muss um 95% der Aufgaben zu lösen\n",
    "# primitive\n",
    "# int ✅\n",
    "# str ✅\n",
    "\n",
    "# complex\n",
    "# liste [1,2,4] ✅\n",
    "# dict {key: value} ✅\n",
    "\n",
    "# statements\n",
    "# if else ✅\n",
    "\n",
    "# loops\n",
    "# for loop ✅\n",
    "\n",
    "# function ✅\n"
   ]
  },
  {
   "cell_type": "code",
   "execution_count": 92,
   "id": "efe90ba2-dca2-4689-9627-5a295c7e5a78",
   "metadata": {},
   "outputs": [
    {
     "name": "stdout",
     "output_type": "stream",
     "text": [
      "Hallo world!\n",
      "hallo techstarter\n",
      "Hallo world!\n",
      "hallo techstarter\n"
     ]
    }
   ],
   "source": [
    "# functions\n",
    "\n",
    "# function defintion\n",
    "# fuktion is hier dadurch definiert\n",
    "# das ist eine b enannte funktion, weil diese\n",
    "# funktion den namen hello hat\n",
    "# und kann über diesen namen aufgerufen werden!!!\n",
    "\n",
    "def ilona():\n",
    "    print(\"Hallo world!\")\n",
    "    print(\"hallo techstarter\")\n",
    "\n",
    "ilona() # <<< das ist der aufruf einer funktion\n",
    "ilona()"
   ]
  },
  {
   "cell_type": "code",
   "execution_count": 111,
   "id": "566afe67-c4fd-4630-a6d3-c985457fdc84",
   "metadata": {},
   "outputs": [
    {
     "name": "stdout",
     "output_type": "stream",
     "text": [
      "Hallo Timo\n",
      "55\n"
     ]
    }
   ],
   "source": [
    "def greeting(name: str):\n",
    "    return f\"Hallo {name}\"\n",
    "\n",
    "output = greeting(\"Timo\")\n",
    "\n",
    "print(output)\n",
    "\n",
    "def addieren(zahl1, zahl2):\n",
    "    summe = zahl1 + zahl2\n",
    "    return summe\n",
    "\n",
    "\n",
    "result = addieren(5, 50)\n",
    "\n",
    "print(result)"
   ]
  },
  {
   "cell_type": "code",
   "execution_count": null,
   "id": "8b6208b7-c2df-4043-8c5e-bbefb4328e0c",
   "metadata": {},
   "outputs": [],
   "source": []
  },
  {
   "cell_type": "code",
   "execution_count": null,
   "id": "b61b9211-cee4-4c2e-86d8-1813a8a15264",
   "metadata": {},
   "outputs": [],
   "source": []
  }
 ],
 "metadata": {
  "kernelspec": {
   "display_name": "Python 3 (ipykernel)",
   "language": "python",
   "name": "python3"
  },
  "language_info": {
   "codemirror_mode": {
    "name": "ipython",
    "version": 3
   },
   "file_extension": ".py",
   "mimetype": "text/x-python",
   "name": "python",
   "nbconvert_exporter": "python",
   "pygments_lexer": "ipython3",
   "version": "3.12.3"
  }
 },
 "nbformat": 4,
 "nbformat_minor": 5
}
